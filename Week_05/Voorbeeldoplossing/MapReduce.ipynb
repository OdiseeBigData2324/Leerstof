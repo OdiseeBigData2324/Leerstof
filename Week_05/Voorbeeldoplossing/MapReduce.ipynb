{
 "cells": [
  {
   "cell_type": "markdown",
   "id": "6917b7e3",
   "metadata": {},
   "source": [
    "# Map Reduce Oefening - Schaken\n",
    "\n",
    "**Deadline:**\n",
    "\n",
    "In deze oefening gaan we werken met een dataset dat informatie bevat over een groot aantal schaakspelletjes.\n",
    "Deze dataset kan [hier](https://www.kaggle.com/datasnaek/chess) gevonden worden.\n",
    "Om te beginnen, download deze file en upload hem naar je distributed file systeem onder het path: **Oefingen/Mapreduce**.\n",
    "Voorzie ook code die deze folder reset naar een lege folder om geen naam-conflicten te hebben.\n",
    "Om je code te testen, print de eerste 1000 bytes uit."
   ]
  },
  {
   "cell_type": "code",
   "execution_count": null,
   "id": "9caf9c85-fdb8-4494-be83-ed725509a5fa",
   "metadata": {},
   "outputs": [],
   "source": [
    "# download dataset\n",
    "import opendatasets as od\n",
    "\n",
    "od.download(\"https://www.kaggle.com/datasets/datasnaek/chess\")"
   ]
  },
  {
   "cell_type": "code",
   "execution_count": null,
   "id": "1cbff3dd-cc89-447e-9736-749a9d7e6942",
   "metadata": {},
   "outputs": [],
   "source": [
    "#upload csv file to hdfs"
   ]
  },
  {
   "cell_type": "markdown",
   "id": "d052848a",
   "metadata": {},
   "source": [
    "# Map Reduce applicaties\n",
    "\n",
    "Nu dat de dataset geupload is kunnen we map-reduce applicaties schrijven om deze dataset te verwerken. Schrijf hieronder de nodige mapreduce applicaties om de elke oefening uit te voeren.\n",
    "Deze oefeningen bestaan steeds uit twee cellen:\n",
    "* Een eerste cel met de nodige python code voor de map-reduce applicatie. Sla deze code op in een file met het correcte oefeningennummer (bvb: oefening_1.py) door gebruik te maken van de \"%%file\" tag in de notebookcellen.\n",
    "* Een tweede cel die de map-reduce applicatie uitvoert op de cluster en het correcte bestand uitleest. Commando's uitvoeren naar de commandline/terminal gebeurt door een uitroepingsteken vooraan te plaatsen (!pydoop submit ...)\n",
    "\n",
    "**Maak gebruik van de mrjob package** in python en niet van de java code of andere aangehaalde libraries.\n",
    "\n",
    "## Dimensies\n",
    "\n",
    "De eerste gevraagde map-reduce applicatie telt het aantal rijen en het aantal kolommen.\n",
    "Schrijf deze nu hieronder en beantwoord de vragen na de code:"
   ]
  },
  {
   "cell_type": "code",
   "execution_count": null,
   "id": "f23f528b",
   "metadata": {},
   "outputs": [],
   "source": [
    "%%file oefening_1.py"
   ]
  },
  {
   "cell_type": "code",
   "execution_count": null,
   "id": "04a528f4",
   "metadata": {},
   "outputs": [],
   "source": [
    "# commando voor uitvoeren van de applicatie\n",
    "!python3 oefening_1.py -r hadoop hdfs:///user/bigdata/Oef_MapReduce/games.csv"
   ]
  },
  {
   "cell_type": "markdown",
   "id": "676d5e3e",
   "metadata": {},
   "source": [
    "**Vragen:**\n",
    "\n",
    "- Hoeveel rijen heb je gevonden in de dataset?\n",
    "- Hoeveel spelletjes zitten er echt in de dataset (kijk hiervoor naar de link van de dataset)?\n",
    "- Zijn deze waarden gelijk? Indien nee, wat is de oorzaak van het verschil? Hoe zou je dit kunnen oplossen?\n",
    "\n",
    "**Antwoord:**"
   ]
  },
  {
   "cell_type": "markdown",
   "id": "255735fb",
   "metadata": {},
   "source": [
    "Schrijf hier je antwoord..."
   ]
  },
  {
   "cell_type": "markdown",
   "id": "64fde28b",
   "metadata": {},
   "source": [
    "Indien je waarden niet overeenkomen, maak een kopie van de vorige applicatie en pas het aan zodat het aantal spelletjes in de dataset correct geteld wordt."
   ]
  },
  {
   "cell_type": "code",
   "execution_count": null,
   "id": "cdd489dd",
   "metadata": {},
   "outputs": [],
   "source": [
    "# aangepast map-reduce applicatie om het correcte aantal te bekomen.\n",
    "%%file oefening1_gelijk.py"
   ]
  },
  {
   "cell_type": "code",
   "execution_count": null,
   "id": "b1506006",
   "metadata": {},
   "outputs": [],
   "source": [
    "# commando voor uitvoeren van de applicatie"
   ]
  },
  {
   "cell_type": "markdown",
   "id": "dec360aa",
   "metadata": {},
   "source": [
    "## Verschil in rating\n",
    "\n",
    "Wat is het gemiddelde verschil in de rating tussen de beide spelers? Hoe vaak wint de sterkste speler (geef dit terug als percentage van het aantal geregistreerde spelletjes)?"
   ]
  },
  {
   "cell_type": "code",
   "execution_count": null,
   "id": "730d9ceb",
   "metadata": {},
   "outputs": [],
   "source": [
    "%%file oefening_2.py"
   ]
  },
  {
   "cell_type": "code",
   "execution_count": null,
   "id": "1062bd89",
   "metadata": {},
   "outputs": [],
   "source": [
    "# commando voor uitvoeren van de applicatie"
   ]
  },
  {
   "cell_type": "markdown",
   "id": "a7bdbcf4",
   "metadata": {},
   "source": [
    "## Uitkomsten per kleur\n",
    "\n",
    "Schrijf nu een map-reduce applicatie dat telt welke uitkomst (status) het vaakst leidt tot een winnaar van de witte of zwarte kleur.\n",
    "Als eindresultaat wil ik dus bijvoorbeeld het volgende zien (kleuren zijn niet noodzakelijk correct):\n",
    "* mate          white\n",
    "* outoftime     black\n",
    "* draw          black\n",
    "* resign        white"
   ]
  },
  {
   "cell_type": "code",
   "execution_count": null,
   "id": "93e4263e",
   "metadata": {},
   "outputs": [],
   "source": [
    "%%file oefening_3.py"
   ]
  },
  {
   "cell_type": "code",
   "execution_count": null,
   "id": "6570f47d",
   "metadata": {},
   "outputs": [],
   "source": [
    "# commando voor uitvoeren van de applicatie"
   ]
  },
  {
   "cell_type": "markdown",
   "id": "5c62fde3",
   "metadata": {},
   "source": [
    "## Aantal keer schaak per spelletje\n",
    "\n",
    "Schaak tel je door een '+' teken in de moves kolom. Schaakmat door een '#' teken. Bereken de volgende statistieken van het aantal keer dat er schaak (schaakmat tel je ook mee) is per schaakspelletje:\n",
    "* Minimum\n",
    "* Maximum\n",
    "* Gemiddelde\n",
    "* Standaardafwijking"
   ]
  },
  {
   "cell_type": "code",
   "execution_count": null,
   "id": "c2c0368a",
   "metadata": {},
   "outputs": [],
   "source": [
    "%%file oefening_4.py"
   ]
  },
  {
   "cell_type": "code",
   "execution_count": null,
   "id": "1ebf4136",
   "metadata": {},
   "outputs": [],
   "source": [
    "# commando voor uitvoeren van de applicatie"
   ]
  },
  {
   "cell_type": "markdown",
   "id": "0805e81c",
   "metadata": {},
   "source": [
    "## Verificatie van de kolom met het aantal zetten\n",
    "\n",
    "In de dataset zijn twee manieren aanwezig om het aantal zetten in een schaakspel te bekomen.\n",
    "* Er is een turns kolom dat het totaal aantal beurten vast heeft\n",
    "* Er is ook een moves kolom dat alle uitgevoerde zetten bevat (gescheidden door een spatie)\n",
    "\n",
    "Kijk of deze waarden voor alle rijen overeenkomt en tel de volgende waarden:\n",
    "* Totaal aantal schaakspelletjes\n",
    "* Aantal waar de kolommen overeenkomen\n",
    "* Aantal waar de kolommen niet overeenkomen.\n",
    "\n",
    "Zorg ervoor dat deze drie waarden aanwezig zijn in het uiteindelijke resultaat."
   ]
  },
  {
   "cell_type": "code",
   "execution_count": null,
   "id": "ea35727e",
   "metadata": {},
   "outputs": [],
   "source": [
    "%%file oefening_5.py"
   ]
  },
  {
   "cell_type": "code",
   "execution_count": null,
   "id": "3fa49e7e",
   "metadata": {},
   "outputs": [],
   "source": [
    "# commando voor uitvoeren van de applicatie"
   ]
  },
  {
   "cell_type": "markdown",
   "id": "aaab5715",
   "metadata": {},
   "source": [
    "## De verschillende openingen\n",
    "\n",
    "Schrijf nu een map-reduce applicatie dat het aantal verschillende openingen in de dataset telt. Tel daarnaast ook hoe vaak elke opening voorkomt. Gebruik hiervoor de naam van de openingen. Tip: een set in python bevat geen duplicaten"
   ]
  },
  {
   "cell_type": "code",
   "execution_count": null,
   "id": "c799bd5d",
   "metadata": {},
   "outputs": [],
   "source": [
    "%%file oefening_6.py"
   ]
  },
  {
   "cell_type": "code",
   "execution_count": null,
   "id": "5f7b0acb",
   "metadata": {},
   "outputs": [],
   "source": [
    "# commando voor uitvoeren van de applicatie"
   ]
  },
  {
   "cell_type": "markdown",
   "id": "eb3325a0",
   "metadata": {},
   "source": [
    "## verscheidene statistieken in 1 applicatie\n",
    "\n",
    "Maak nu een map-reduce applicatie dat de volgende zaken in 1 keer berekend:\n",
    "* Het minimum, maximum en gemiddelde aantal minuten dat een schaakspel geduurd heeft (de tijden aanwezig in de dataset zijn in [Unix-format](https://en.wikipedia.org/wiki/Unix_time))\n",
    "* Een histogram van het aantal zetten in een schaakspel. Plaats de grensen van de bins in de naam van de resultaat op de volgende manier: bin_{ondergrens}_{bovengrens}. Gebruik hierbij 10 bins die het bereik van 1-51 verdelen (0 zetten worden dus niet geteld).\n",
    "* De openingsstrategie die het vaakst leidt tot winst voor de witte speler. Tip: collections package"
   ]
  },
  {
   "cell_type": "code",
   "execution_count": null,
   "id": "ebdb7165-113a-400a-a01b-acff743b02fd",
   "metadata": {},
   "outputs": [],
   "source": [
    "%%file oefening_7.py"
   ]
  },
  {
   "cell_type": "code",
   "execution_count": null,
   "id": "307e32cc-be53-4a14-8d7d-17480bb2ee2d",
   "metadata": {},
   "outputs": [],
   "source": [
    "# commando voor uitvoeren van de applicatie"
   ]
  },
  {
   "cell_type": "code",
   "execution_count": null,
   "id": "0426f218",
   "metadata": {},
   "outputs": [],
   "source": []
  }
 ],
 "metadata": {
  "kernelspec": {
   "display_name": "Python 3 (ipykernel)",
   "language": "python",
   "name": "python3"
  },
  "language_info": {
   "codemirror_mode": {
    "name": "ipython",
    "version": 3
   },
   "file_extension": ".py",
   "mimetype": "text/x-python",
   "name": "python",
   "nbconvert_exporter": "python",
   "pygments_lexer": "ipython3",
   "version": "3.10.12"
  },
  "vscode": {
   "interpreter": {
    "hash": "d5e8e3a19af5ceb2434683dff87da6345c3b29f7eb0a8a138558c07d014a01cc"
   }
  }
 },
 "nbformat": 4,
 "nbformat_minor": 5
}
