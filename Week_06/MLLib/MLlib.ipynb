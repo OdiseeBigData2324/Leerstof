{
 "cells": [
  {
   "cell_type": "markdown",
   "id": "7a82620d",
   "metadata": {},
   "source": [
    "# MLlib\n",
    "\n",
    "Spark biedt ook een framework aan voor MachineLearning modellen te trainen op gedistribueerde datasets.\n",
    "Dit framework is MLlib of ook wel sparkML genoemd.\n",
    "De code om te werken met deze package is sterk gelijkaardig aan sklearn.\n",
    "De API en een uitgebreide documentatie met voorbeeldcode kan je [hier](https://spark.apache.org/docs/latest/ml-guide.html) vinden.\n",
    "\n",
    "Deze package bied de volgende tools aan\n",
    "* ML-technieken: classificatie, regressie, clustering, ...\n",
    "* Features: Extracting en transforming van features, PCA, ...\n",
    "* Pipelines: Maak, train, optimaliseer en evalueer pipelines\n",
    "* Persistentie: Bewaar en laden van algoritmes/modellen\n",
    "* Databeheer: Algebra tools, statistieken, null-waarden, ...\n",
    "\n",
    "Let op dat er twee API's aangeboden worden, 1 gebaseerd op RDD's en 1 op DataFrames.\n",
    "De API gebaseerd op RDD's is ouder en minder flexibel dan de API gebruik makend van DataFrames.\n",
    "Momenteel werken ze allebei maar in de toekomst zou de RDD gebaseerde kunnen verdwijnen.\n",
    "\n",
    "## Utilities\n",
    "\n",
    "### Varianten voor numpy-arrays\n",
    "\n",
    "Voor feature sets en volledige matrices van datasets aan te maken kan je gebruik maken van de Vector en Matrix klassen.\n",
    "Deze beschikken over een Dense variant waar je elk element moet ingeven of een Sparse Variant waar cellen, elementen leeg kan laten.\n",
    "Dit ziet er als volgt uit:"
   ]
  },
  {
   "cell_type": "code",
   "execution_count": 4,
   "id": "5ef759da",
   "metadata": {},
   "outputs": [
    {
     "name": "stdout",
     "output_type": "stream",
     "text": [
      "[4.0,5.0,0.0,3.0]\n",
      "DenseMatrix([[ 0.,  4.,  8., 12.],\n",
      "             [ 1.,  5.,  9., 13.],\n",
      "             [ 2.,  6., 10., 14.],\n",
      "             [ 3.,  7., 11., 15.]])\n",
      "(100,[9,30],[3.5,0.7])\n"
     ]
    }
   ],
   "source": [
    "from pyspark.sql import SparkSession\n",
    "from pyspark.ml.linalg import Vectors\n",
    "from pyspark.ml.linalg import Matrices\n",
    "\n",
    "spark = SparkSession.builder.appName(\"MLLib intro\").getOrCreate()\n",
    "\n",
    "data = Vectors.dense([4.0, 5.0, 0.0, 3.0])\n",
    "print(data)\n",
    "\n",
    "data = Matrices.dense(4, 4, range(16))\n",
    "print(data)\n",
    "\n",
    "data = Vectors.sparse(100, [(9, 3.5), (30, 0.7)])\n",
    "print(data)"
   ]
  },
  {
   "cell_type": "markdown",
   "id": "d0143ac7",
   "metadata": {},
   "source": [
    "Het is belangrijk om te weten dat dit locale datastructuren (wrapper rond numpy array) zijn en geen gedistribueerde objecten."
   ]
  },
  {
   "cell_type": "markdown",
   "id": "36f5676b",
   "metadata": {},
   "source": [
    "### Statistieken\n",
    "\n",
    "Voor er kan gewerkt worden met statistieken moeten we (net zoals bij pandas) eerst een dataset hebben.\n",
    "Hieronder maken we een random dataframe aan van 50 rijen en 4 kolommen."
   ]
  },
  {
   "cell_type": "code",
   "execution_count": 6,
   "id": "91673fc0",
   "metadata": {},
   "outputs": [
    {
     "name": "stdout",
     "output_type": "stream",
     "text": [
      "+-------------------+--------------------+-------------------+--------------------+\n",
      "|                 _1|                  _2|                 _3|                  _4|\n",
      "+-------------------+--------------------+-------------------+--------------------+\n",
      "|  0.893898753196659|  0.7688290388819001| 0.7402962413749942|  0.9504966025255194|\n",
      "| 0.9726735754506414|  0.2048085646234561|  0.841659225456615|  0.9148080289425158|\n",
      "|0.13713268133999224| 0.03776852033298572| 0.4429492359051299|  0.9134270818706325|\n",
      "| 0.9870503438875052|  0.3992426960376996|0.49528537099229186|  0.6706435698121662|\n",
      "| 0.2781461787449335|  0.2553858147094259| 0.2780343139916366| 0.45191841024780954|\n",
      "| 0.6145898555376139|  0.6343515446304321| 0.5919338533323394|  0.9263249263728374|\n",
      "| 0.6702999012077113| 0.42525952554771707| 0.3363560381120929| 0.38130949564510164|\n",
      "|0.08070188120100541|  0.3273385332490336| 0.4844960532783599|  0.6270031866401224|\n",
      "| 0.5588712340807123|  0.5373883194209633|  0.581588402499219|  0.5062311143024466|\n",
      "| 0.6051919906821852| 0.18642005295190944| 0.4729450611404934| 0.24006694557731778|\n",
      "|  0.527375587116516|  0.7028648248196177|  0.259211482130843| 0.22132395322351517|\n",
      "| 0.6796597388323657|  0.6767983408448536|0.12031339589736556|  0.1190932591000946|\n",
      "|0.40676137237519905|   0.954121660994454|0.31339852634998266|0.023714587955363076|\n",
      "| 0.7467948266992761|  0.1529343545674674| 0.6013609059412175| 0.16310380505062372|\n",
      "|0.19341254044189393|  0.7461211364063862| 0.1548314124481076|  0.5513176516652325|\n",
      "| 0.8202979450622168|  0.3954345155127795|   0.84140177769153|  0.6114049856959586|\n",
      "| 0.5195423872650393|  0.4286719696380046| 0.8252643298553336|  0.6200354876288219|\n",
      "|0.23689627291671633| 0.15224806763800136|0.12321696953611694|  0.6065159496347171|\n",
      "| 0.3637798462212267|  0.6295258236161771| 0.9292871931300892|  0.9875309831022644|\n",
      "| 0.9762212941074523|0.021451177292065027| 0.2830530033455425|0.014580464494063694|\n",
      "+-------------------+--------------------+-------------------+--------------------+\n",
      "only showing top 20 rows\n",
      "\n"
     ]
    },
    {
     "name": "stderr",
     "output_type": "stream",
     "text": [
      "24/03/26 08:25:25 WARN SparkStringUtils: Truncated the string representation of a plan since it was too large. This behavior can be adjusted by setting 'spark.sql.debug.maxToStringFields'.\n",
      "[Stage 8:==============>                                          (4 + 12) / 16]\r"
     ]
    },
    {
     "name": "stdout",
     "output_type": "stream",
     "text": [
      "+-------+-------------------+--------------------+--------------------+--------------------+\n",
      "|summary|                 _1|                  _2|                  _3|                  _4|\n",
      "+-------+-------------------+--------------------+--------------------+--------------------+\n",
      "|  count|                 50|                  50|                  50|                  50|\n",
      "|   mean| 0.5605905463358627|  0.4498231361229888|  0.4654654544935798| 0.46988009718205626|\n",
      "| stddev| 0.2799338595865417| 0.25838864759179825| 0.27740799958306306| 0.30772983185467423|\n",
      "|    min|0.06021647690545884|0.021451177292065027|0.009879599515407511|0.004721371929382712|\n",
      "|    25%| 0.2781461787449335|  0.2347015105834025|   0.259211482130843| 0.22132395322351517|\n",
      "|    50%| 0.5688023605064968|  0.4286719696380046|  0.4429492359051299| 0.44461492713750805|\n",
      "|    75%| 0.8096275415190975|  0.6824732917926973|  0.7394010857785415|   0.694652922047724|\n",
      "|    max| 0.9870503438875052|   0.993260677522925|  0.9611180065625102|  0.9942863776982694|\n",
      "+-------+-------------------+--------------------+--------------------+--------------------+\n",
      "\n"
     ]
    },
    {
     "name": "stderr",
     "output_type": "stream",
     "text": [
      "                                                                                \r"
     ]
    }
   ],
   "source": [
    "from pyspark.mllib.random import RandomRDDs\n",
    "sc = spark.sparkContext\n",
    "\n",
    "# maak een random dataframe aan (50 rijen en 4 kolommen)\n",
    "data = RandomRDDs.uniformVectorRDD(sc, 50, 4)\n",
    "# rdd naar dataframe\n",
    "data = data.map(lambda a: a.tolist()).toDF()\n",
    "data.show()\n",
    "\n",
    "data.summary().show()"
   ]
  },
  {
   "cell_type": "markdown",
   "id": "e5c3fad4",
   "metadata": {},
   "source": [
    "**Correlation matrix**\n",
    "\n",
    "Buiten de statistieken die berekend kunnen worden door de summary() functie kan ook de correlatiematrix belangrijk zijn.\n",
    "Deze matrix maakt het mogelijk om het verband tussen de verscheidene features te bestuderen.\n",
    "Deze matrix kan als volgt berekend worden voor een gedistribueerd dataframe."
   ]
  },
  {
   "cell_type": "code",
   "execution_count": 12,
   "id": "f4b6287f",
   "metadata": {},
   "outputs": [
    {
     "name": "stderr",
     "output_type": "stream",
     "text": [
      "                                                                                \r"
     ]
    },
    {
     "name": "stdout",
     "output_type": "stream",
     "text": [
      "[ 1.          0.00384297  0.16076331 -0.15179631  0.00384297  1.\n",
      "  0.25307958  0.02859365  0.16076331  0.25307958  1.          0.41568673\n",
      " -0.15179631  0.02859365  0.41568673  1.        ]\n"
     ]
    }
   ],
   "source": [
    "from pyspark.ml.feature import VectorAssembler\n",
    "from pyspark.ml.stat import Correlation\n",
    "\n",
    "# dataframe omzetten naar een feature-vector (de 4 kolommen combineren in 1 kolom)\n",
    "assembler = VectorAssembler(inputCols = data.columns, outputCol='vector')\n",
    "df_vector = assembler.transform(data).select('vector')\n",
    "df_vector.head(5)\n",
    "\n",
    "# bereken de correlatiematrix op basis van de feature vector\n",
    "df_corr = Correlation.corr(df_vector, 'vector')\n",
    "eerste_cell = df_corr.collect()[0][0]\n",
    "print(eerste_cell.values)"
   ]
  },
  {
   "cell_type": "markdown",
   "id": "3e0084e1",
   "metadata": {},
   "source": [
    "**Onafhankelijksheidtest**\n",
    "\n",
    "Naast de correlatiematrix kan het ook belangrijk zijn om de onafhankelijkheid te testen tussen elke feature en een label.\n",
    "Dit kan uitgevoerd worden door een zogenaamde ChiSquareTest.\n",
    "Deze krijgt als input een dataframe, de naam van de kolom met de features (als vectors) en de naam van een kolom met de labels.\n",
    "We kunnen deze test uitvoeren als volgt:"
   ]
  },
  {
   "cell_type": "code",
   "execution_count": 15,
   "id": "8412ba8d",
   "metadata": {},
   "outputs": [
    {
     "name": "stdout",
     "output_type": "stream",
     "text": [
      "+---------------------------------------------------------------------------------+-----+\n",
      "|vector                                                                           |label|\n",
      "+---------------------------------------------------------------------------------+-----+\n",
      "|[0.893898753196659,0.7688290388819001,0.7402962413749942,0.9504966025255194]     |0    |\n",
      "|[0.9726735754506414,0.2048085646234561,0.841659225456615,0.9148080289425158]     |0    |\n",
      "|[0.13713268133999224,0.03776852033298572,0.4429492359051299,0.9134270818706325]  |1    |\n",
      "|[0.9870503438875052,0.3992426960376996,0.49528537099229186,0.6706435698121662]   |1    |\n",
      "|[0.2781461787449335,0.2553858147094259,0.2780343139916366,0.45191841024780954]   |0    |\n",
      "|[0.6145898555376139,0.6343515446304321,0.5919338533323394,0.9263249263728374]    |0    |\n",
      "|[0.6702999012077113,0.42525952554771707,0.3363560381120929,0.38130949564510164]  |0    |\n",
      "|[0.08070188120100541,0.3273385332490336,0.4844960532783599,0.6270031866401224]   |0    |\n",
      "|[0.5588712340807123,0.5373883194209633,0.581588402499219,0.5062311143024466]     |1    |\n",
      "|[0.6051919906821852,0.18642005295190944,0.4729450611404934,0.24006694557731778]  |1    |\n",
      "|[0.527375587116516,0.7028648248196177,0.259211482130843,0.22132395322351517]     |1    |\n",
      "|[0.6796597388323657,0.6767983408448536,0.12031339589736556,0.1190932591000946]   |1    |\n",
      "|[0.40676137237519905,0.954121660994454,0.31339852634998266,0.023714587955363076] |1    |\n",
      "|[0.7467948266992761,0.1529343545674674,0.6013609059412175,0.16310380505062372]   |1    |\n",
      "|[0.19341254044189393,0.7461211364063862,0.1548314124481076,0.5513176516652325]   |0    |\n",
      "|[0.8202979450622168,0.3954345155127795,0.84140177769153,0.6114049856959586]      |0    |\n",
      "|[0.5195423872650393,0.4286719696380046,0.8252643298553336,0.6200354876288219]    |0    |\n",
      "|[0.23689627291671633,0.15224806763800136,0.12321696953611694,0.6065159496347171] |1    |\n",
      "|[0.3637798462212267,0.6295258236161771,0.9292871931300892,0.9875309831022644]    |1    |\n",
      "|[0.9762212941074523,0.021451177292065027,0.2830530033455425,0.014580464494063694]|1    |\n",
      "+---------------------------------------------------------------------------------+-----+\n",
      "only showing top 20 rows\n",
      "\n"
     ]
    }
   ],
   "source": [
    "# voeg een label-kolom toe aan df_vector\n",
    "import pyspark.sql.functions as f\n",
    "\n",
    "df = df_vector.withColumn('label', f.when(f.rand() > 0.5, 1).otherwise(0))\n",
    "df.show(truncate=False)"
   ]
  },
  {
   "cell_type": "code",
   "execution_count": 18,
   "id": "763557fd-089a-48fc-81b9-3215cdeceddb",
   "metadata": {},
   "outputs": [
    {
     "name": "stdout",
     "output_type": "stream",
     "text": [
      "+------------+-------------------+----------------+-----------------+\n",
      "|featureIndex|             pValue|degreesOfFreedom|        statistic|\n",
      "+------------+-------------------+----------------+-----------------+\n",
      "|           0|0.43343669725575984|              49|50.00000000000004|\n",
      "|           1| 0.4334366972557635|              49|50.00000000000005|\n",
      "|           2| 0.4334366972557635|              49|50.00000000000005|\n",
      "|           3|0.43343669725576317|              49|50.00000000000006|\n",
      "+------------+-------------------+----------------+-----------------+\n",
      "\n"
     ]
    }
   ],
   "source": [
    "# doe de chisquaretest uitvoeren op bovenstaande df\n",
    "from pyspark.ml.stat import ChiSquareTest\n",
    "ChiSquareTest.test(df, 'vector', 'label', flatten=True).show()\n",
    "\n",
    "# significant verband is als pValue < 0.05"
   ]
  },
  {
   "cell_type": "markdown",
   "id": "e3640d89",
   "metadata": {},
   "source": [
    "**Summarizer**\n",
    "\n",
    "Andere statistieken per kolom kunnen berekend worden door gebruik te maken van de Summarizer klasse:"
   ]
  },
  {
   "cell_type": "code",
   "execution_count": 22,
   "id": "3c81a515",
   "metadata": {},
   "outputs": [
    {
     "name": "stderr",
     "output_type": "stream",
     "text": [
      "[Stage 69:>                                                       (0 + 16) / 16]\r"
     ]
    },
    {
     "name": "stdout",
     "output_type": "stream",
     "text": [
      "+------------------------------------------------------------------------------------------------------------------------------------------------------------------+\n",
      "|aggregate_metrics(vector, 1.0)                                                                                                                                    |\n",
      "+------------------------------------------------------------------------------------------------------------------------------------------------------------------+\n",
      "|{[0.5605905463358627,0.4498231361229888,0.46546545449357973,0.4698800971820562], 50, [0.9870503438875052,0.993260677522925,0.9611180065625102,0.9942863776982694]}|\n",
      "+------------------------------------------------------------------------------------------------------------------------------------------------------------------+\n",
      "\n"
     ]
    },
    {
     "name": "stderr",
     "output_type": "stream",
     "text": [
      "                                                                                \r"
     ]
    }
   ],
   "source": [
    "from pyspark.ml.stat import Summarizer\n",
    "\n",
    "summarizer = Summarizer.metrics('mean', 'count', 'max')\n",
    "df_vector.select(summarizer.summary(df_vector.vector)).show(truncate=False)"
   ]
  },
  {
   "cell_type": "markdown",
   "id": "ac099f10",
   "metadata": {},
   "source": [
    "Het gebruik maken van de Summarizer maakt het dus mogelijk om rechtstreeks op de feature vectors te werken zonder ze eerst terug te moeten splitsen."
   ]
  },
  {
   "cell_type": "markdown",
   "id": "fa4e0343",
   "metadata": {},
   "source": [
    "### Pipelines\n",
    "\n",
    "Pipelines binnen Spark zijn een groep van high-level API's steunend op Dataframes om ML-pipelines aan te maken, optimaliseren en trainen.\n",
    "De belangrijkste concepten binnen de Pipelines van Spark zijn:\n",
    "* Dataframe: concept van de dataset\n",
    "* Transformer: Zet een dataframe om in een ander dataframe\n",
    "* Estimator: Zet een dataframe om in een model/transformer\n",
    "* Pipeline: een ketting van transformers en estimators om een flow vast te leggen\n",
    "* Parameter: API voor parameters van transformers en estimators aan te passen\n",
    "\n",
    "Gebruik nu onderstaande mini-dataset waar we op basis van een tekstkolom met logistische regressie een bepaald label proberen te voorspellen.\n",
    "Maak hiervoor een Pipeline uit die bestaat uit de volgende stappen:\n",
    "* Tokenizer om de tekstkolom te splitsen in de overeenkomstige woorden\n",
    "* HashingTf om de term frequency van de woorden te bepalen en het om te zetten naar een feature vector\n",
    "* LogisticRegression Estimator om de voorspelling te doen.\n",
    "\n",
    "Train daarna deze pipeline en maak de voorspellingen voor de traningsdata.\n",
    "Hoe accuraat is dit model?"
   ]
  },
  {
   "cell_type": "code",
   "execution_count": 35,
   "id": "5bf87b9e",
   "metadata": {},
   "outputs": [
    {
     "name": "stdout",
     "output_type": "stream",
     "text": [
      "+---+----------------+-----+----------------------+----------------------------------------------------------------------------+--------------------------------------+------------------------------------------+----------+\n",
      "|id |text            |label|words                 |features                                                                    |rawPrediction                         |probability                               |prediction|\n",
      "+---+----------------+-----+----------------------+----------------------------------------------------------------------------+--------------------------------------+------------------------------------------+----------+\n",
      "|0  |a b c d e spark |1.0  |[a, b, c, d, e, spark]|(262144,[74920,89530,107107,148981,167694,173558],[1.0,1.0,1.0,1.0,1.0,1.0])|[-5.938819269022599,5.938819269022599]|[0.002628213496942035,0.9973717865030579] |1.0       |\n",
      "|1  |b d             |0.0  |[b, d]                |(262144,[89530,148981],[1.0,1.0])                                           |[5.620506368991334,-5.620506368991334]|[0.9963902711801113,0.0036097288198887467]|0.0       |\n",
      "|2  |spark f g h     |1.0  |[spark, f, g, h]      |(262144,[36803,173558,209078,228158],[1.0,1.0,1.0,1.0])                     |[-6.113410025008263,6.113410025008263]|[0.0022081050570269896,0.997791894942973] |1.0       |\n",
      "|3  |hadoop mapreduce|0.0  |[hadoop, mapreduce]   |(262144,[132966,198017],[1.0,1.0])                                          |[6.662147148663644,-6.662147148663644]|[0.9987232337063715,0.0012767662936284951]|0.0       |\n",
      "+---+----------------+-----+----------------------+----------------------------------------------------------------------------+--------------------------------------+------------------------------------------+----------+\n",
      "\n"
     ]
    }
   ],
   "source": [
    "from pyspark.ml import Pipeline\n",
    "from pyspark.ml.classification import LogisticRegression\n",
    "from pyspark.ml.feature import HashingTF, Tokenizer\n",
    "\n",
    "# Prepare training documents from a list of (id, text, label) tuples.\n",
    "training = spark.createDataFrame([\n",
    "    (0, \"a b c d e spark\", 1.0),\n",
    "    (1, \"b d\", 0.0),\n",
    "    (2, \"spark f g h\", 1.0),\n",
    "    (3, \"hadoop mapreduce\", 0.0)\n",
    "], [\"id\", \"text\", \"label\"])\n",
    "\n",
    "tokenizer = Tokenizer(inputCol='text', outputCol='words')\n",
    "tmp = tokenizer.transform(training)\n",
    "hashingtf = HashingTF(inputCol=tokenizer.getOutputCol(), outputCol= 'features')\n",
    "tmp = hashingtf.transform(tmp)\n",
    "lr = LogisticRegression(maxIter=10, regParam=0.001)\n",
    "\n",
    "pipeline = Pipeline(stages=[tokenizer, hashingtf, lr])\n",
    "model = pipeline.fit(training)\n",
    "predictions = model.transform(training)\n",
    "predictions.show(truncate=False)\n"
   ]
  },
  {
   "cell_type": "markdown",
   "id": "0d7e7af8",
   "metadata": {},
   "source": [
    "### Evalueren van een model\n",
    "\n",
    "In de pyspark.ml package zitten er ook functionaliteiten voor deze modellen te evalueren.\n",
    "Meer informatie hierover vind je [hier](https://spark.apache.org/docs/2.2.0/mllib-evaluation-metrics.html)."
   ]
  },
  {
   "cell_type": "code",
   "execution_count": 36,
   "id": "dd4bd140",
   "metadata": {},
   "outputs": [
    {
     "data": {
      "text/plain": [
       "1.0"
      ]
     },
     "execution_count": 36,
     "metadata": {},
     "output_type": "execute_result"
    }
   ],
   "source": [
    "# evalueren van het model\n",
    "from pyspark.ml.evaluation import BinaryClassificationEvaluator\n",
    "\n",
    "evaluator = BinaryClassificationEvaluator()\n",
    "evaluator.evaluate(predictions)"
   ]
  },
  {
   "cell_type": "markdown",
   "id": "0a305ea2",
   "metadata": {},
   "source": [
    "### Data sources\n",
    "\n",
    "Door gebruik te maken van de sparkContext kunnen een reeks standaard databronnen ingelezen worden om datasets uit op te bouwen (Csv, Json, ...).\n",
    "Daarnaast is het ook mogelijk om een folder met een reeks beelden te gebruiken als dataset om zo een model voor image classification te trainen.\n",
    "Download nu [deze](https://www.kaggle.com/returnofsputnik/chihuahua-or-muffin) dataset en upload ze naar een folder op het hadoop filesysteem."
   ]
  },
  {
   "cell_type": "code",
   "execution_count": null,
   "id": "7992c49c",
   "metadata": {},
   "outputs": [],
   "source": [
    "import opendatasets as od\n",
    "\n",
    "od.download(\"https://www.kaggle.com/returnofsputnik/chihuahua-or-muffin\")"
   ]
  },
  {
   "cell_type": "code",
   "execution_count": 37,
   "id": "e8ab5900",
   "metadata": {},
   "outputs": [
    {
     "data": {
      "text/plain": [
       "'/user/bigdata/MLLib/chihuahua-or-muffin'"
      ]
     },
     "execution_count": 37,
     "metadata": {},
     "output_type": "execute_result"
    }
   ],
   "source": [
    "from hdfs import InsecureClient\n",
    "\n",
    "client = InsecureClient('http://localhost:9870', user='bigdata')\n",
    "map = \"/user/bigdata/MLLib\"\n",
    "\n",
    "if client.status(map, strict=False) is None:\n",
    "    client.makedirs(map)\n",
    "else:\n",
    "    # do some cleaning in case anything else than *.txt is present\n",
    "    for f in client.list(map):\n",
    "        client.delete(map + '/' + f, recursive=True)\n",
    "\n",
    "client.upload(map, 'chihuahua-or-muffin')"
   ]
  },
  {
   "cell_type": "markdown",
   "id": "70542e14",
   "metadata": {},
   "source": [
    "De geuploade images kunnen nu ingelezen worden als volgt:"
   ]
  },
  {
   "cell_type": "code",
   "execution_count": 44,
   "id": "ad93c3d8",
   "metadata": {},
   "outputs": [
    {
     "name": "stdout",
     "output_type": "stream",
     "text": [
      "root\n",
      " |-- image: struct (nullable = true)\n",
      " |    |-- origin: string (nullable = true)\n",
      " |    |-- height: integer (nullable = true)\n",
      " |    |-- width: integer (nullable = true)\n",
      " |    |-- nChannels: integer (nullable = true)\n",
      " |    |-- mode: integer (nullable = true)\n",
      " |    |-- data: binary (nullable = true)\n",
      "\n",
      "+--------------------+--------------------+\n",
      "|               image|              origin|\n",
      "+--------------------+--------------------+\n",
      "|{hdfs://namenode:...|hdfs://namenode:9...|\n",
      "|{hdfs://namenode:...|hdfs://namenode:9...|\n",
      "|{hdfs://namenode:...|hdfs://namenode:9...|\n",
      "|{hdfs://namenode:...|hdfs://namenode:9...|\n",
      "|{hdfs://namenode:...|hdfs://namenode:9...|\n",
      "|{hdfs://namenode:...|hdfs://namenode:9...|\n",
      "|{hdfs://namenode:...|hdfs://namenode:9...|\n",
      "|{hdfs://namenode:...|hdfs://namenode:9...|\n",
      "|{hdfs://namenode:...|hdfs://namenode:9...|\n",
      "|{hdfs://namenode:...|hdfs://namenode:9...|\n",
      "|{hdfs://namenode:...|hdfs://namenode:9...|\n",
      "|{hdfs://namenode:...|hdfs://namenode:9...|\n",
      "|{hdfs://namenode:...|hdfs://namenode:9...|\n",
      "|{hdfs://namenode:...|hdfs://namenode:9...|\n",
      "|{hdfs://namenode:...|hdfs://namenode:9...|\n",
      "|{hdfs://namenode:...|hdfs://namenode:9...|\n",
      "+--------------------+--------------------+\n",
      "\n"
     ]
    }
   ],
   "source": [
    "df = spark.read.format('image').option('dropInvalid', True).load('/user/bigdata/MLLib/chihuahua-or-muffin')\n",
    "df.printSchema()\n",
    "df.select('image', 'image.origin').show()"
   ]
  },
  {
   "cell_type": "markdown",
   "id": "91a67bf4",
   "metadata": {},
   "source": [
    "Merk op dat het werken met images niet zo eenvoudig is.\n",
    "Hiervoor wordt binnen pyspark typisch gebruik gemaakt van de [sparkdl](https://smurching.github.io/spark-deep-learning/site/api/python/sparkdl.html) package.\n",
    "Hierbij staat de dl voor deep learning.\n",
    "Aangezien dit ons momenteel te ver leidt ga ik dit niet verder toelichten."
   ]
  },
  {
   "cell_type": "markdown",
   "id": "b0e4b653",
   "metadata": {},
   "source": [
    "Een andere aparte databron die eenvoudig ingelezen kan worden is het formaat \"libsvm\".\n",
    "Een bestand van dit formaat wordt ingelezen als een dataframe met twee kolommen: een label en een kolom met de feature-vectors.\n",
    "De code om dergelijk bestand in te laden is:"
   ]
  },
  {
   "cell_type": "code",
   "execution_count": null,
   "id": "ee23edf2",
   "metadata": {},
   "outputs": [],
   "source": [
    "df = spark.read.format(\"libsvm\").load(\"{path to file here}\")"
   ]
  }
 ],
 "metadata": {
  "kernelspec": {
   "display_name": "Python 3 (ipykernel)",
   "language": "python",
   "name": "python3"
  },
  "language_info": {
   "codemirror_mode": {
    "name": "ipython",
    "version": 3
   },
   "file_extension": ".py",
   "mimetype": "text/x-python",
   "name": "python",
   "nbconvert_exporter": "python",
   "pygments_lexer": "ipython3",
   "version": "3.10.12"
  },
  "vscode": {
   "interpreter": {
    "hash": "d5e8e3a19af5ceb2434683dff87da6345c3b29f7eb0a8a138558c07d014a01cc"
   }
  }
 },
 "nbformat": 4,
 "nbformat_minor": 5
}
