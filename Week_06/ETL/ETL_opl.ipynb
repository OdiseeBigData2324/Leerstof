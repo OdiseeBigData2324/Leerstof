{
 "cells": [
  {
   "cell_type": "markdown",
   "id": "0b9bd2cb",
   "metadata": {},
   "source": [
    "# ETL\n",
    "\n",
    "Het extract - transform - load concept is een veel voorkomend begrip in (big) data toepassingen en geeft het stappenplan weer van de levenscyclus van de data binnen je toepassing.\n",
    "Het concept bestaat uit drie stappen:\n",
    "* extract: zoeken van data, inlezen en validatie\n",
    "* transform: verwerken van data, data cleaning, aggregatie, groupering, filtering, ...\n",
    "* load: opslaan van de getransformeerde data in een file, database, datawarehouse, datalake, ...\n",
    "\n",
    "In de rest van deze notebook gaan we bestuderen hoe deze stappen uit te voeren met Spark.\n",
    "Hiervoor gaan we een csv gebruiken als bronbestand."
   ]
  },
  {
   "cell_type": "markdown",
   "id": "43b4d7a1",
   "metadata": {},
   "source": [
    "## Extract\n",
    "\n",
    "In deze directory staat een zip file waarin deze csv is opgeslaan. \n",
    "Unzip deze file eerst en upload het naar het hdfs"
   ]
  },
  {
   "cell_type": "code",
   "execution_count": 2,
   "id": "10681358",
   "metadata": {},
   "outputs": [
    {
     "data": {
      "text/plain": [
       "'/user/bigdata/ETL/cars.csv'"
      ]
     },
     "execution_count": 2,
     "metadata": {},
     "output_type": "execute_result"
    }
   ],
   "source": [
    "import zipfile\n",
    "from hdfs import InsecureClient\n",
    "\n",
    "with zipfile.ZipFile(\"cars.zip\", 'r') as zip_ref:\n",
    "    zip_ref.extractall()\n",
    "\n",
    "client = InsecureClient('http://localhost:9870', user='bigdata')\n",
    "map = \"/user/bigdata/ETL\"\n",
    "filename = 'cars.csv'\n",
    "\n",
    "if client.status(map, strict=False) is None:\n",
    "    client.makedirs(map)\n",
    "else:\n",
    "    # do some cleaning in case anything else than *.txt is present\n",
    "    for f in client.list(map):\n",
    "        client.delete(map + '/' + f, recursive=True)\n",
    "\n",
    "client.upload(map, filename)"
   ]
  },
  {
   "cell_type": "markdown",
   "id": "201b7992",
   "metadata": {},
   "source": [
    "Maak nu een locale sparkcontext aan en lees dit bestand in"
   ]
  },
  {
   "cell_type": "code",
   "execution_count": null,
   "id": "c2336286",
   "metadata": {},
   "outputs": [
    {
     "name": "stderr",
     "output_type": "stream",
     "text": [
      "Setting default log level to \"WARN\".\n",
      "To adjust logging level use sc.setLogLevel(newLevel). For SparkR, use setLogLevel(newLevel).\n",
      "24/02/07 12:47:04 WARN NativeCodeLoader: Unable to load native-hadoop library for your platform... using builtin-java classes where applicable\n",
      "24/02/07 12:47:05 WARN Utils: Service 'SparkUI' could not bind on port 4040. Attempting port 4041.\n"
     ]
    }
   ],
   "source": [
    "from pyspark.sql import SparkSession\n",
    "\n",
    "spark = SparkSession.builder.appName(\"ETL\").getOrCreate()\n",
    "\n",
    "df = spark.read.csv(map + \"/\" + filename, header=True, sep=\",\").cache()\n",
    "print('Total Records = {}'.format(df.count()))\n",
    "df.show()"
   ]
  },
  {
   "cell_type": "markdown",
   "id": "f1963092",
   "metadata": {},
   "source": [
    "De datastructuur van het csv is als volgt:"
   ]
  },
  {
   "cell_type": "code",
   "execution_count": 3,
   "id": "be7c2042",
   "metadata": {},
   "outputs": [
    {
     "name": "stdout",
     "output_type": "stream",
     "text": [
      "root\n",
      " |-- manufacturer_name: string (nullable = true)\n",
      " |-- model_name: string (nullable = true)\n",
      " |-- transmission: string (nullable = true)\n",
      " |-- color: string (nullable = true)\n",
      " |-- odometer_value: string (nullable = true)\n",
      " |-- year_produced: string (nullable = true)\n",
      " |-- engine_fuel: string (nullable = true)\n",
      " |-- engine_has_gas: string (nullable = true)\n",
      " |-- engine_type: string (nullable = true)\n",
      " |-- engine_capacity: string (nullable = true)\n",
      " |-- body_type: string (nullable = true)\n",
      " |-- has_warranty: string (nullable = true)\n",
      " |-- state: string (nullable = true)\n",
      " |-- drivetrain: string (nullable = true)\n",
      " |-- price_usd: string (nullable = true)\n",
      " |-- is_exchangeable: string (nullable = true)\n",
      " |-- location_region: string (nullable = true)\n",
      " |-- number_of_photos: string (nullable = true)\n",
      " |-- up_counter: string (nullable = true)\n",
      " |-- feature_0: string (nullable = true)\n",
      " |-- feature_1: string (nullable = true)\n",
      " |-- feature_2: string (nullable = true)\n",
      " |-- feature_3: string (nullable = true)\n",
      " |-- feature_4: string (nullable = true)\n",
      " |-- feature_5: string (nullable = true)\n",
      " |-- feature_6: string (nullable = true)\n",
      " |-- feature_7: string (nullable = true)\n",
      " |-- feature_8: string (nullable = true)\n",
      " |-- feature_9: string (nullable = true)\n",
      " |-- duration_listed: string (nullable = true)\n",
      "\n"
     ]
    }
   ],
   "source": [
    "df.printSchema()"
   ]
  },
  {
   "cell_type": "markdown",
   "id": "1efc8148",
   "metadata": {},
   "source": [
    "## Transform\n",
    "\n",
    "De transform stap is de meest complexe stap van de drie en kan uit een grote verscheidenheid van bewerkingen bestaan, zoals:\n",
    "* Dataformaten aanpassen\n",
    "* Vertalingen van tekst\n",
    "* Geencodeerde waarden aanpassen: 0/1 vs true/false of m/f vs male/female\n",
    "* Allerhande data-cleaning stappen\n",
    "* Encoderen (Ordinal of One-hot) van categorieke kolommen\n",
    "* Groeperen van data\n",
    "* Uitvoeren van berekeningen \n",
    "* ...\n",
    "\n",
    "Schrijf hieronder eerst zelf de code om de volgende stappen uit te voeren:\n",
    "* Omzetten naar integer van de kolommen: odometer_value, year_produced, engine_capacity, price_usd, number_of_photos, up_counter, duration_listed\n",
    "* Omzetten naar boolean van de kolommen: engine_has_gas, has_warranty, is_exchangeable, feature_0 tot en met 9\n",
    "* Bereken het aantal null en nan waarden per kolom"
   ]
  },
  {
   "cell_type": "code",
   "execution_count": 4,
   "id": "eadd2f5c",
   "metadata": {},
   "outputs": [],
   "source": [
    "df_backup = df"
   ]
  },
  {
   "cell_type": "code",
   "execution_count": 5,
   "id": "fa4ab062",
   "metadata": {},
   "outputs": [],
   "source": [
    "from pyspark.sql.types import IntegerType, BooleanType\n",
    "from pyspark.sql.functions import col, isnan, isnull, when, count"
   ]
  },
  {
   "cell_type": "code",
   "execution_count": 6,
   "id": "be33225b",
   "metadata": {},
   "outputs": [
    {
     "name": "stderr",
     "output_type": "stream",
     "text": [
      "\r\n",
      "[Stage 5:>                                                          (0 + 1) / 1]\r"
     ]
    },
    {
     "name": "stdout",
     "output_type": "stream",
     "text": [
      "+-----------------+----------+------------+-----+--------------+-------------+-----------+--------------+-----------+---------------+---------+------------+-----+----------+---------+---------------+---------------+----------------+----------+---------+---------+---------+---------+---------+---------+---------+---------+---------+---------+---------------+\n",
      "|manufacturer_name|model_name|transmission|color|odometer_value|year_produced|engine_fuel|engine_has_gas|engine_type|engine_capacity|body_type|has_warranty|state|drivetrain|price_usd|is_exchangeable|location_region|number_of_photos|up_counter|feature_0|feature_1|feature_2|feature_3|feature_4|feature_5|feature_6|feature_7|feature_8|feature_9|duration_listed|\n",
      "+-----------------+----------+------------+-----+--------------+-------------+-----------+--------------+-----------+---------------+---------+------------+-----+----------+---------+---------------+---------------+----------------+----------+---------+---------+---------+---------+---------+---------+---------+---------+---------+---------+---------------+\n",
      "|                0|         0|           0|    0|             0|            0|          0|             0|          0|             10|        0|           0|    0|         0|        0|              0|              0|               0|         0|        0|        0|        0|        0|        0|        0|        0|        0|        0|        0|              0|\n",
      "+-----------------+----------+------------+-----+--------------+-------------+-----------+--------------+-----------+---------------+---------+------------+-----+----------+---------+---------------+---------------+----------------+----------+---------+---------+---------+---------+---------+---------+---------+---------+---------+---------+---------------+\n",
      "\n"
     ]
    },
    {
     "name": "stderr",
     "output_type": "stream",
     "text": [
      "\r\n",
      "                                                                                \r"
     ]
    }
   ],
   "source": [
    "df = df_backup\n",
    "\n",
    "# cast to integers\n",
    "df = df.withColumn(\"odometer_value\",col(\"odometer_value\").cast(IntegerType()))\n",
    "df = df.withColumn(\"year_produced\",col(\"year_produced\").cast(IntegerType()))\n",
    "df = df.withColumn(\"engine_capacity\",col(\"engine_capacity\").cast(IntegerType()))\n",
    "df = df.withColumn(\"price_usd\",col(\"price_usd\").cast(IntegerType()))\n",
    "df = df.withColumn(\"number_of_photos\",col(\"number_of_photos\").cast(IntegerType()))\n",
    "df = df.withColumn(\"up_counter\",col(\"up_counter\").cast(IntegerType()))\n",
    "df = df.withColumn(\"duration_listed\",col(\"duration_listed\").cast(IntegerType()))\n",
    "\n",
    "# cast to booleans\n",
    "cols = [\"engine_has_gas\",\"has_warranty\",\"is_exchangeable\",\"feature_0\",\"feature_1\",\"feature_2\",\"feature_3\",\"feature_4\",\"feature_5\",\"feature_6\",\"feature_7\",\"feature_8\",\"feature_9\"]\n",
    "for c in cols:\n",
    "    df = df.withColumn(c, col(c).cast(BooleanType()))\n",
    "    \n",
    "df.select([count(when(col(c).isNull(), c)).alias(c) for c in df.columns]).show()"
   ]
  },
  {
   "cell_type": "code",
   "execution_count": 7,
   "id": "dd83437b",
   "metadata": {},
   "outputs": [
    {
     "name": "stdout",
     "output_type": "stream",
     "text": [
      "root\n",
      " |-- manufacturer_name: string (nullable = true)\n",
      " |-- model_name: string (nullable = true)\n",
      " |-- transmission: string (nullable = true)\n",
      " |-- color: string (nullable = true)\n",
      " |-- odometer_value: integer (nullable = true)\n",
      " |-- year_produced: integer (nullable = true)\n",
      " |-- engine_fuel: string (nullable = true)\n",
      " |-- engine_has_gas: boolean (nullable = true)\n",
      " |-- engine_type: string (nullable = true)\n",
      " |-- engine_capacity: integer (nullable = true)\n",
      " |-- body_type: string (nullable = true)\n",
      " |-- has_warranty: boolean (nullable = true)\n",
      " |-- state: string (nullable = true)\n",
      " |-- drivetrain: string (nullable = true)\n",
      " |-- price_usd: integer (nullable = true)\n",
      " |-- is_exchangeable: boolean (nullable = true)\n",
      " |-- location_region: string (nullable = true)\n",
      " |-- number_of_photos: integer (nullable = true)\n",
      " |-- up_counter: integer (nullable = true)\n",
      " |-- feature_0: boolean (nullable = true)\n",
      " |-- feature_1: boolean (nullable = true)\n",
      " |-- feature_2: boolean (nullable = true)\n",
      " |-- feature_3: boolean (nullable = true)\n",
      " |-- feature_4: boolean (nullable = true)\n",
      " |-- feature_5: boolean (nullable = true)\n",
      " |-- feature_6: boolean (nullable = true)\n",
      " |-- feature_7: boolean (nullable = true)\n",
      " |-- feature_8: boolean (nullable = true)\n",
      " |-- feature_9: boolean (nullable = true)\n",
      " |-- duration_listed: integer (nullable = true)\n",
      "\n"
     ]
    }
   ],
   "source": [
    "df.printSchema()"
   ]
  },
  {
   "cell_type": "markdown",
   "id": "0a7cee12",
   "metadata": {},
   "source": [
    "In bovenstaande code kan je zien dat er slechts een aantal null-waarden in de dataset aanwezig zijn.\n",
    "Deze kunnen ingevuld worden door middel van een [imputer](https://spark.apache.org/docs/latest/api/python/reference/api/pyspark.ml.feature.Imputer.html).\n",
    "Hier laten we deze rijen echter gewoon vallen voor de eenvoud:"
   ]
  },
  {
   "cell_type": "code",
   "execution_count": 8,
   "id": "653829e0",
   "metadata": {},
   "outputs": [
    {
     "name": "stdout",
     "output_type": "stream",
     "text": [
      "+-----------------+----------+------------+------+--------------+-------------+-----------+--------------+-----------+---------------+---------+------------+-----+----------+---------+---------------+---------------+----------------+----------+---------+---------+---------+---------+---------+---------+---------+---------+---------+---------+---------------+\n",
      "|manufacturer_name|model_name|transmission| color|odometer_value|year_produced|engine_fuel|engine_has_gas|engine_type|engine_capacity|body_type|has_warranty|state|drivetrain|price_usd|is_exchangeable|location_region|number_of_photos|up_counter|feature_0|feature_1|feature_2|feature_3|feature_4|feature_5|feature_6|feature_7|feature_8|feature_9|duration_listed|\n",
      "+-----------------+----------+------------+------+--------------+-------------+-----------+--------------+-----------+---------------+---------+------------+-----+----------+---------+---------------+---------------+----------------+----------+---------+---------+---------+---------+---------+---------+---------+---------+---------+---------+---------------+\n",
      "|           Subaru|   Outback|   automatic|silver|        190000|         2010|   gasoline|         false|   gasoline|              2|universal|       false|owned|       all|    10900|          false|   Минская обл.|               9|        13|    false|     true|     true|     true|    false|     true|    false|     true|     true|     true|             16|\n",
      "|           Subaru|   Outback|   automatic|  blue|        290000|         2002|   gasoline|         false|   gasoline|              3|universal|       false|owned|       all|     5000|           true|   Минская обл.|              12|        54|    false|     true|    false|    false|     true|     true|    false|    false|    false|     true|             83|\n",
      "|           Subaru|  Forester|   automatic|   red|        402000|         2001|   gasoline|         false|   gasoline|              2|      suv|       false|owned|       all|     2800|           true|   Минская обл.|               4|        72|    false|     true|    false|    false|    false|    false|    false|    false|     true|     true|            151|\n",
      "|           Subaru|   Impreza|  mechanical|  blue|         10000|         1999|   gasoline|         false|   gasoline|              3|    sedan|       false|owned|       all|     9999|           true|   Минская обл.|               9|        42|     true|    false|    false|    false|    false|    false|    false|    false|    false|    false|             86|\n",
      "|           Subaru|    Legacy|   automatic| black|        280000|         2001|   gasoline|         false|   gasoline|              2|universal|       false|owned|       all|     2134|           true|Гомельская обл.|              14|         7|    false|     true|    false|     true|     true|    false|    false|    false|    false|     true|              7|\n",
      "|           Subaru|   Outback|   automatic|silver|        132449|         2011|   gasoline|         false|   gasoline|              2|universal|       false|owned|       all|    14700|           true|   Минская обл.|              20|        56|    false|     true|    false|    false|    false|     true|    false|     true|     true|     true|             67|\n",
      "|           Subaru|  Forester|   automatic| black|        318280|         1998|   gasoline|         false|   gasoline|              2|universal|       false|owned|       all|     3000|           true|   Минская обл.|               8|       147|    false|     true|    false|    false|     true|     true|    false|    false|     true|     true|            307|\n",
      "|           Subaru|    Legacy|   automatic|silver|        350000|         2004|   gasoline|         false|   gasoline|              2|    sedan|       false|owned|       all|     4500|          false| Брестская обл.|               7|        29|    false|     true|     true|    false|    false|    false|    false|    false|    false|     true|             73|\n",
      "|           Subaru|   Outback|   automatic|  grey|        179000|         2010|   gasoline|         false|   gasoline|              2|universal|       false|owned|       all|    12900|          false|   Минская обл.|              17|        33|    false|     true|     true|     true|     true|     true|     true|     true|     true|     true|             87|\n",
      "|           Subaru|  Forester|   automatic|silver|        571317|         1999|   gasoline|         false|   gasoline|              2|universal|       false|owned|       all|     4200|           true|   Минская обл.|               8|        11|    false|     true|     true|    false|    false|     true|    false|    false|    false|     true|             43|\n",
      "|           Subaru|  Forester|  mechanical| other|        280000|         2003|   gasoline|         false|   gasoline|              2|      suv|       false|owned|       all|     6900|           true|   Минская обл.|              14|         6|    false|     true|    false|     true|    false|     true|    false|     true|     true|     true|             11|\n",
      "|           Subaru|   Tribeca|   automatic|  grey|        256000|         2008|   gasoline|         false|   gasoline|              3|      suv|       false|owned|       all|     8350|           true|   Минская обл.|              18|        61|    false|     true|     true|     true|     true|     true|    false|    false|     true|     true|             80|\n",
      "|           Subaru|  Forester|  mechanical| other|        321000|         2002|   gasoline|         false|   gasoline|              2|      suv|       false|owned|       all|     4300|          false|   Минская обл.|              13|         2|    false|     true|    false|    false|    false|    false|    false|    false|    false|    false|              2|\n",
      "|           Subaru|     Justy|  mechanical|   red|         49999|         2001|   gasoline|         false|   gasoline|              1|hatchback|       false|owned|       all|     1666|          false|Гомельская обл.|               8|        94|     true|    false|    false|    false|    false|    false|    false|    false|    false|    false|            230|\n",
      "|           Subaru|   Outback|   automatic| brown|        154685|         2011|   gasoline|         false|   gasoline|              2|universal|       false|owned|       all|     8600|           true|   Минская обл.|              24|        34|    false|     true|    false|     true|    false|    false|    false|    false|     true|     true|             63|\n",
      "|           Subaru|   Outback|   automatic| black|        163219|         2004|   gasoline|         false|   gasoline|              2|universal|       false|owned|       all|     7300|           true|   Минская обл.|              17|        22|    false|     true|     true|    false|     true|     true|    false|    false|    false|     true|             35|\n",
      "|           Subaru|   Outback|   automatic| other|        318650|         2005|   gasoline|         false|   gasoline|              3|universal|       false|owned|       all|     7587|           true|   Минская обл.|               7|       166|    false|     true|    false|     true|     true|     true|    false|    false|     true|     true|            468|\n",
      "|           Subaru|   Impreza|  mechanical|  blue|        191000|         2005|   gasoline|         false|   gasoline|              2|    sedan|       false|owned|       all|    10950|          false|   Минская обл.|              12|         7|    false|     true|    false|    false|    false|    false|    false|    false|    false|     true|             21|\n",
      "|           Subaru|  Forester|   automatic|silver|        179000|         2014|   gasoline|         false|   gasoline|              2|      suv|       false|owned|       all|    12700|          false|   Минская обл.|              14|        14|    false|    false|     true|     true|    false|     true|     true|     true|     true|     true|             16|\n",
      "|           Subaru|  Forester|   automatic| black|        159000|         2013|   gasoline|         false|   gasoline|              2|      suv|       false|owned|       all|    16500|          false|   Минская обл.|               6|        34|    false|     true|     true|    false|     true|     true|    false|     true|     true|     true|             59|\n",
      "+-----------------+----------+------------+------+--------------+-------------+-----------+--------------+-----------+---------------+---------+------------+-----+----------+---------+---------------+---------------+----------------+----------+---------+---------+---------+---------+---------+---------+---------+---------+---------+---------+---------------+\n",
      "only showing top 20 rows\n",
      "\n"
     ]
    }
   ],
   "source": [
    "df = df.na.drop()\n",
    "df.show()"
   ]
  },
  {
   "cell_type": "markdown",
   "id": "6a6c3367",
   "metadata": {},
   "source": [
    "De oefening om de waarden in te vullen met een imputer (bvb door het gemiddelde) kan je hieronder doen."
   ]
  },
  {
   "cell_type": "code",
   "execution_count": 9,
   "id": "b7eedb3b",
   "metadata": {},
   "outputs": [],
   "source": [
    "# oefening"
   ]
  },
  {
   "cell_type": "markdown",
   "id": "021a7e58",
   "metadata": {},
   "source": [
    "Bereken nu de volgende waarden van de beschikbare data:\n",
    "* Aantal autos per merk\n",
    "* Welke verschillende types van transmissie zijn er?\n",
    "* Marktaandeel (percentage) van de verschillende types motor?\n",
    "* Maximum prijs van elk merk\n",
    "* Wat zijn de vijf goedkoopste voertuigen met een automatische transmissie?"
   ]
  },
  {
   "cell_type": "code",
   "execution_count": 22,
   "id": "99670921",
   "metadata": {},
   "outputs": [
    {
     "name": "stdout",
     "output_type": "stream",
     "text": [
      "+-----------------+-----+\n",
      "|manufacturer_name|count|\n",
      "+-----------------+-----+\n",
      "|       Volkswagen| 4243|\n",
      "|         Infiniti|  162|\n",
      "|          Peugeot| 1909|\n",
      "|            Lexus|  213|\n",
      "|           Jaguar|   53|\n",
      "|            Rover|  235|\n",
      "|           Lancia|   92|\n",
      "|             Jeep|  107|\n",
      "|       Mitsubishi|  887|\n",
      "|              ГАЗ|  200|\n",
      "|              Kia|  912|\n",
      "|             Mini|   68|\n",
      "|        Chevrolet|  435|\n",
      "|            Volvo|  721|\n",
      "|            Lifan|   47|\n",
      "|          Hyundai| 1116|\n",
      "|             Saab|  108|\n",
      "|             LADA|  146|\n",
      "|            Honda|  797|\n",
      "|        SsangYong|   79|\n",
      "+-----------------+-----+\n",
      "only showing top 20 rows\n",
      "\n"
     ]
    }
   ],
   "source": [
    "# autos per merk\n",
    "df_autos = df.groupBy(\"manufacturer_name\").count()\n",
    "df_autos.show()"
   ]
  },
  {
   "cell_type": "code",
   "execution_count": 11,
   "id": "ed1f3bad",
   "metadata": {},
   "outputs": [
    {
     "name": "stdout",
     "output_type": "stream",
     "text": [
      "+------------+\n",
      "|transmission|\n",
      "+------------+\n",
      "|   automatic|\n",
      "|  mechanical|\n",
      "+------------+\n",
      "\n"
     ]
    }
   ],
   "source": [
    "# types transmissie\n",
    "df.select(\"transmission\").distinct().show()"
   ]
  },
  {
   "cell_type": "code",
   "execution_count": 12,
   "id": "5629e72c",
   "metadata": {},
   "outputs": [
    {
     "name": "stdout",
     "output_type": "stream",
     "text": [
      "+-----------+-----+-------------------+\n",
      "|engine_type|count|       marktaandeel|\n",
      "+-----------+-----+-------------------+\n",
      "|   gasoline|25647| 0.6657926845097479|\n",
      "|     diesel|12874|0.33420731549025207|\n",
      "+-----------+-----+-------------------+\n",
      "\n"
     ]
    }
   ],
   "source": [
    "# marktaandeel\n",
    "totaal = df.count()\n",
    "df_aandeel = df.groupBy(\"engine_type\").count()\n",
    "df_aandeel = df_aandeel.withColumn(\"marktaandeel\", col(\"count\")/totaal)\n",
    "df_aandeel.show()"
   ]
  },
  {
   "cell_type": "code",
   "execution_count": 13,
   "id": "b0763a14",
   "metadata": {},
   "outputs": [
    {
     "name": "stderr",
     "output_type": "stream",
     "text": [
      "\r\n",
      "[Stage 21:>                                                         (0 + 1) / 1]\r"
     ]
    },
    {
     "name": "stdout",
     "output_type": "stream",
     "text": [
      "+-----------------+--------------+\n",
      "|manufacturer_name|max(price_usd)|\n",
      "+-----------------+--------------+\n",
      "|       Volkswagen|         43999|\n",
      "|         Infiniti|         47000|\n",
      "|          Peugeot|         20450|\n",
      "|            Lexus|         48610|\n",
      "|           Jaguar|         50000|\n",
      "|            Rover|          9900|\n",
      "|           Lancia|          9500|\n",
      "|             Jeep|         43000|\n",
      "|       Mitsubishi|         31400|\n",
      "|              ГАЗ|         30000|\n",
      "|              Kia|         44700|\n",
      "|             Mini|         39456|\n",
      "|        Chevrolet|         49900|\n",
      "|            Volvo|         48200|\n",
      "|            Lifan|         15750|\n",
      "|          Hyundai|         45954|\n",
      "|             Saab|         17500|\n",
      "|             LADA|         13800|\n",
      "|            Honda|         42000|\n",
      "|        SsangYong|         15900|\n",
      "+-----------------+--------------+\n",
      "only showing top 20 rows\n",
      "\n"
     ]
    },
    {
     "name": "stderr",
     "output_type": "stream",
     "text": [
      "\r\n",
      "                                                                                \r"
     ]
    }
   ],
   "source": [
    "# maximum prijs per merk\n",
    "df.groupBy(\"manufacturer_name\").max(\"price_usd\").show()"
   ]
  },
  {
   "cell_type": "code",
   "execution_count": 20,
   "id": "88c60474",
   "metadata": {},
   "outputs": [],
   "source": [
    "# goedkoopste voertuigen met automatische transmissie\n",
    "df_result = df.filter(col(\"transmission\") == \"automatic\").sort(col(\"price_usd\").asc()).limit(5)"
   ]
  },
  {
   "cell_type": "markdown",
   "id": "d35b2a40",
   "metadata": {},
   "source": [
    "## Load\n",
    "\n",
    "In deze stap veronderstellen we dat we enkel de 5 goedkoopste auto's willen bewaren.\n",
    "Schrijf hieronder de benodigde code om de informatie van deze autos op te slaan in een json."
   ]
  },
  {
   "cell_type": "code",
   "execution_count": 21,
   "id": "7badc7ab",
   "metadata": {},
   "outputs": [],
   "source": [
    "df_result.write.format('json').save('ETL/result.json')"
   ]
  },
  {
   "cell_type": "markdown",
   "id": "a3b2bab6",
   "metadata": {},
   "source": [
    "Dit is een voorbeeld waarbij de resultaten worden opgeslaan in een bestand.\n",
    "Andere mogelijkheden zijn om het op te slaan in een SQL-database.\n",
    "Demo-code om dit te bereiken kan je [hier](https://kontext.tech/column/spark/395/save-dataframe-to-sql-databases-via-jdbc-in-pyspark) bekijken.\n",
    "Later in dit vak zullen we ook NoSQL-databases bekijken.\n",
    "Op dat moment zullen we zien hoe we de resultaten kunnen bewaren in dit type database beheersystemen (DBMS)."
   ]
  }
 ],
 "metadata": {
  "kernelspec": {
   "display_name": "Python 3 (ipykernel)",
   "language": "python",
   "name": "python3"
  },
  "language_info": {
   "codemirror_mode": {
    "name": "ipython",
    "version": 3
   },
   "file_extension": ".py",
   "mimetype": "text/x-python",
   "name": "python",
   "nbconvert_exporter": "python",
   "pygments_lexer": "ipython3",
   "version": "3.10.12"
  }
 },
 "nbformat": 4,
 "nbformat_minor": 5
}
