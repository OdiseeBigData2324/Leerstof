{
 "cells": [
  {
   "cell_type": "markdown",
   "metadata": {},
   "source": [
    "# YARN\n",
    "\n",
    "Deze notebook verkent de mogelijkheden van het configureren van de Resource Manager binnen Hadoop.\n",
    "Dit gaan we verkennen in het uitvoeren van de volgende stappen:\n",
    "* Bestuderen van de Yarn-UI\n",
    "* Beperken van de beschikbare cpu-cores en ram geheugen van de datanode\n",
    "* Aanmaken van een extra resource type voor het aantal beschikbare GPU en GPU-memory (VRAM)\n",
    "* Aangeven dat de single node van onze cluster beschikt over 1 GPU met 4 GB VRAM\n",
    "* Aanmaken van een resource profile met 1 GPU en 2 GB VRAM\n",
    "\n",
    "## Yarn UI\n",
    "\n",
    "De UI geeft een reeks informatie over de beschikbare nodes in de cluster, de capabiliteiten van deze nodes en de applicatie die gescheduled, werkende, gefaald of geslaagd zijn.\n",
    "De standaardlink voor deze UI te bekijken is: [http://localhost:8088](http://localhost:8088)\n",
    "Deze ziet er uit als volgt:\n",
    "\n",
    "![Yarn - homepage](images/ui_001.png)\n",
    "\n",
    "waarbij de pagina met de informatie over de nodes eruit ziet als volgt:\n",
    "\n",
    "![Yarn - node capabilities](images/ui_002.png)\n",
    "\n",
    "## Beperken aantal cpu's en ram\n",
    "\n",
    "De staardinstellingen voor het aantal cores en ram-geheugen dat beschikbaar is op een node is respectievelijk 8 cores en 8 GB Ram.\n",
    "Dit is te veel voor de toepassingen die we momenteel gaan gebruiken en kan ook vaak niet gehaald worden door een laptop.\n",
    "Om deze reden gaan we eerst dit beperken zodat we de laptop niet overbelasten.\n",
    "\n",
    "Dit kan zowel in de yarn-site.xml of in de node-resources.xml file gedaan worden door het volgende toe te voegen.\n",
    "\n",
    "    <property>\n",
    "\t\t  <description>Max available memory on each data node.</description>\n",
    "\t\t  <name>yarn.nodemanager.resource.memory-mb</name>\n",
    "\t\t  <value>2048</value>\n",
    "\t</property>\n",
    "\n",
    "\t<property>\n",
    "\t\t<description>Max available cores data node.</description>\n",
    "\t\t<name>yarn.nodemanager.resource.cpu-vcores</name>\n",
    "\t\t<value>4</value>\n",
    "\t</property>\n",
    "\n",
    "**Welke waarden voor aantal cores en beschikbaar geheugen worden ingesteld door het bovenstaande te kiezen?**\n",
    "\n",
    "<details>\n",
    "  <summary>Klik hier voor het antwoord</summary>\n",
    "\n",
    "  ![Yarn UI limited](images/limited.png)\n",
    "</details>\n",
    "\n",
    "Indien dit nog te veel is voor jouw PC/laptop, pas het nu aan naar een zelfgekozen waarde. Indien je de aanpassingen niet ziet verschijnen in de ui moet je waarschijnlijk nog de yarn restarten. Controleer met het commando jps of yarn correct opgestart is."
   ]
  },
  {
   "cell_type": "markdown",
   "metadata": {
    "pycharm": {
     "name": "#%% md\n"
    }
   },
   "source": [
    "## Extra Resource Types\n",
    "\n",
    "Standaard kan enkel het aantal cores en beschikbare ram-geheugen van een node bepaald worden.\n",
    "Indien we ook de hoeveelheid VRAM dat beschikbaar is op een node willen geven aan de resource manager voor een optimale scheduling uit te voeren moeten we dit type resource nog aanmaken.\n",
    "Het aanmaken van een resource type kan gedaan worden in yarn-site.xml of resource-types.xml door het volgende toe te voegen aan bijvoorbeeld resource-types.xml:\n",
    "\n",
    "    <property>\n",
    "        <name>yarn.resource-types</name>\n",
    "        <value>vram</value>\n",
    "    </property>\n",
    "    <property>\n",
    "        <name>yarn.resource-types.vram.units</name>\n",
    "        <value>G</value>\n",
    "    </property>\n",
    "\n",
    "    <property>\n",
    "        <name>yarn.resource-types.vram.minimum-allocation</name>\n",
    "        <value>0</value>\n",
    "    </property>\n",
    "\n",
    "    <property>\n",
    "        <name>yarn.resource-types.vram.maximum-allocation</name>\n",
    "        <value>1024</value>\n",
    "    </property>\n",
    "\n",
    "**Let op:** Indien de file resource-types.xml nog niet bestaat kan je hem toevoegen door een andere xml te kopieren en alles te verwijderen behalve de configuration tags. Het bovenstaande stukje code moet tussen de configuration tags staan.\n",
    "\n",
    "In bovenstaande stukje xml worden er drie zaken aangepast, namelijk:\n",
    "* yarn.resource-types: Dit is een csv lijst met alle extra resources. In dit geval is dit enk \"vram\".\n",
    "* yarn.resource-types.vram.units: Hier passen we de grootteorde aan van de waarden die we gebruiken voor het type vram (dit kan je doen per type via de naam van de variabele). De variabele G staat voor G of dus Gigabyte en andere opties kan je [hier](https://hadoop.apache.org/docs/stable/hadoop-yarn/hadoop-yarn-site/ResourceModel.html) vinden.\n",
    "* yarn.resource-types.vram.minimum-allocation: De minimale hoeveelheid die kan toegekend worden aan een container voor het uitvoeren van een applicatie\n",
    "* yarn.resource-types.vram.maximum-allocation: De maximale hoeveelheid die kan toegekend worden aan een enkele container.\n",
    "\n",
    "Merk op dat je ook de Default Resource Calculator moet aanpassen. Dit kan gedaan worden in de capacity-scheduler.xml door de volgende waarde aan te passen van\n",
    "\n",
    "    <property>\n",
    "\t\t  <name>yarn.scheduler.capacity.resource-calculator</name>\n",
    "\t\t  <value>org.apache.hadoop.yarn.util.resource.DefaultResourceCalculator</value>\n",
    "\t</property>\n",
    "\n",
    "naar\n",
    "\n",
    "    <property>\n",
    "\t\t  <name>yarn.scheduler.capacity.resource-calculator</name>\n",
    "\t\t  <value>org.apache.hadoop.yarn.util.resource.DominantResourceCalculator</value>\n",
    "\t</property>\n",
    "\n",
    "Na het toevoegen van dit resource type moet dit ook zichtbaar zijn in de UI, bijvoorbeeld:\n",
    "\n",
    "![Yarn UI with extra type](images/extraType.png)\n",
    "\n",
    "Voeg nu als oefening een extra resource-type toe voor het aantal gpu's beschikbaar in een node. Dit wordt uitgedrukt in eenheden en heeft een minimum waarde van 0 en een maximum waarde van 4."
   ]
  },
  {
   "cell_type": "markdown",
   "metadata": {},
   "source": [
    "## Aangeven van de mogelijkheden van de datanode\n",
    "\n",
    "In de vorige sectie hebben we twee nieuwe parameters toegevoegd om het mogelijk te maken van Yarn om rekening te houden met de grafische kaarten aanwezig in de verschillende nodes van de cluster en een minimum of maximum aantal dat toegekend kan worden.\n",
    "Er ontbreekt echter nog 1 element, namelijk de hoeveelheid resources waarover onze node beschikt.\n",
    "Dit kan gedaan worden in de node-resources.xml of yarn-site.xml.\n",
    "Elke node moet dit voor zichzelf instellen in zijn eigen configuratiefiles.\n",
    "Om het aantal cores en Ram-geheugen toe te voegen moet onderstaande xml toegevoegd worden:\n",
    "\n",
    "    <property>\n",
    "        <name>yarn.nodemanager.resource-type.vram</name>\n",
    "        <value>4G</value>\n",
    "    </property>\n",
    "\n",
    "Voeg nu als oefening ook een stuk code toe om aan te geven dat je over twee gpu's bezit."
   ]
  },
  {
   "cell_type": "markdown",
   "metadata": {
    "collapsed": true,
    "jupyter": {
     "outputs_hidden": true
    },
    "pycharm": {
     "name": "#%% md\n"
    }
   },
   "source": [
    "## Aanmaken resource profile\n",
    "\n",
    "Om het aanvragen van een set van resources te vereenvoudigen en veiliger te maken tegen fouten kunnen er profielen aangemaakt worden om de aangevraagde resources te standaardiseren.\n",
    "Hiervoor moeten we eerst het gebruik van profiles enablen. Dit kan door het volgende te plaatsen in de yarn-site.xml\n",
    "\n",
    "\t<property>\n",
    "\t\t<name>yarn.resourcemanager.resource-profiles.enabled</name>\n",
    "\t\t<value>true</value>\n",
    "\t</property>\n",
    "\n",
    "Daarna kan bijvoorbeeld onderstaande json gebruikt worden om 4 profiles te maken die een verschillende configuratie vereisen.\n",
    "\n",
    "    {\n",
    "        \"small\": {\n",
    "            \"memory-mb\" : 1024,\n",
    "            \"vcores\" : 1\n",
    "        },\n",
    "        \"default\" : {\n",
    "            \"memory-mb\" : 2048,\n",
    "            \"vcores\" : 2\n",
    "        },\n",
    "        \"large\" : {\n",
    "            \"memory-mb\": 4096,\n",
    "            \"vcores\" : 4\n",
    "        },\n",
    "        \"compute\" : {\n",
    "            \"memory-mb\" : 2048,\n",
    "            \"vcores\" : 2,\n",
    "            \"gpu\" : 1\n",
    "        }\n",
    "    }\n",
    "\n",
    "Deze json moet in een file met naam resource-profiles.json komen.\n",
    "Er is echter **1 groot nadeel** aan het gebruik van resource profiles verbonden.\n",
    "Momenteel is het werken met resource profiles voor resources te reserveren enkel gegarandeerd voor de Command Line Interface."
   ]
  },
  {
   "cell_type": "markdown",
   "metadata": {},
   "source": [
    "# Map Reduce\n",
    "\n",
    "Eerst maken we een aparte directory aan voor alles wat we voor deze notebook gaan gebruiken in hdfs. Dit om conflicten of het overschrijven van gegevens te vermijden.\n"
   ]
  },
  {
   "cell_type": "code",
   "execution_count": 1,
   "metadata": {
    "pycharm": {
     "name": "#%%\n"
    }
   },
   "outputs": [],
   "source": [
    "from hdfs import InsecureClient\n",
    "client = InsecureClient(\"http://localhost:9870\", user='bigdata')\n",
    "map = 'MapReduce'\n",
    "input_files = ['input.txt', 'titanic.csv']\n",
    "\n",
    "if client.status(map, strict=False) is None:\n",
    "    client.makedirs(map)\n",
    "else:\n",
    "    for f in client.list(map):\n",
    "        # extra check om ervoor te zorgen dat startdata niet verwijderd wordt\n",
    "        if not f in input_files:\n",
    "            client.delete(map + \"/\" + f, recursive=True)\n",
    "\n",
    "for f in input_files:\n",
    "    if client.status(map + \"/\" + f, strict=False) is None:\n",
    "        client.upload(map, f)"
   ]
  },
  {
   "cell_type": "markdown",
   "metadata": {
    "pycharm": {
     "name": "#%% md\n"
    }
   },
   "source": [
    "## Wat is MapReduce\n",
    "\n",
    "MapReduce is een programmeermodel om eenvoudig distributed data te verwerken.\n",
    "Het is belangrijk om te realiseren dat de programma's die je hier schrijft een parallel uitgevoerd worden op verschillende stukjes data (De map-fase) om daarna in de reduce-fase tot een finale output teruggebracht te worden.\n",
    "Er gebeuren 5 stappen bij het uitvoeren van een MapReduce programma\n",
    "* Bepalen op welke nodes de code uitgevoerd wordt (wordt door YARN gedaan afhankelijk van de locatie van de blocks)\n",
    "* Uitvoeren van de Map-code (Geschreven door de developer naar eigen wens)\n",
    "* Shuffle, ouput van de map-fase doorsturen naar andere nodes die de resultaten gaan reduceren (Automatisch)\n",
    "* uitvoeren van de Reduce-code (Geschreven door de developer naar eigen wens)\n",
    "* Combineren van de reduce output tot 1 gehele/finale output (Automatisch)\n",
    "\n",
    "Uit bovenstaand stappenplan is het duidelijk dat er twee zaken moeten geimplementeerd worden bij het schrijven van een MapReduce toepassing.\n",
    "Echter zullen we eerst een aantal voorbeelden bestuderen met reeds bestaande implementaties om zo meer vertrouwd te geraken met de flow van MapReduce."
   ]
  },
  {
   "cell_type": "markdown",
   "metadata": {
    "pycharm": {
     "name": "#%% md\n"
    }
   },
   "source": [
    "## Voorbeelden van bestaande applicaties\n",
    "\n",
    "Reeds een aantal default MapReduce applications zijn mee geinstalleerd met Hadoop.\n",
    "De jar die deze toepassingen bevat kan gevonden worden in hadoop/share/hadoop/mapreduce/hadoop-mapreduce-examples-3.3.0.jar.\n",
    "Wanneer je deze jar uitvoert met onderstaande commando krijg je een lijst met de beschikbare applicaties"
   ]
  },
  {
   "cell_type": "code",
   "execution_count": 1,
   "metadata": {
    "pycharm": {
     "name": "#%%\n"
    }
   },
   "outputs": [
    {
     "name": "stdout",
     "output_type": "stream",
     "text": [
      "An example program must be given as the first argument.\n",
      "Valid program names are:\n",
      "  aggregatewordcount: An Aggregate based map/reduce program that counts the words in the input files.\n",
      "  aggregatewordhist: An Aggregate based map/reduce program that computes the histogram of the words in the input files.\n",
      "  bbp: A map/reduce program that uses Bailey-Borwein-Plouffe to compute exact digits of Pi.\n",
      "  dbcount: An example job that count the pageview counts from a database.\n",
      "  distbbp: A map/reduce program that uses a BBP-type formula to compute exact bits of Pi.\n",
      "  grep: A map/reduce program that counts the matches of a regex in the input.\n",
      "  join: A job that effects a join over sorted, equally partitioned datasets\n",
      "  multifilewc: A job that counts words from several files.\n",
      "  pentomino: A map/reduce tile laying program to find solutions to pentomino problems.\n",
      "  pi: A map/reduce program that estimates Pi using a quasi-Monte Carlo method.\n",
      "  randomtextwriter: A map/reduce program that writes 10GB of random textual data per node.\n",
      "  randomwriter: A map/reduce program that writes 10GB of random data per node.\n",
      "  secondarysort: An example defining a secondary sort to the reduce.\n",
      "  sort: A map/reduce program that sorts the data written by the random writer.\n",
      "  sudoku: A sudoku solver.\n",
      "  teragen: Generate data for the terasort\n",
      "  terasort: Run the terasort\n",
      "  teravalidate: Checking results of terasort\n",
      "  wordcount: A map/reduce program that counts the words in the input files.\n",
      "  wordmean: A map/reduce program that counts the average length of the words in the input files.\n",
      "  wordmedian: A map/reduce program that counts the median length of the words in the input files.\n",
      "  wordstandarddeviation: A map/reduce program that counts the standard deviation of the length of the words in the input files.\n"
     ]
    }
   ],
   "source": [
    "!hadoop jar hadoop-mapreduce-examples-3.3.6.jar"
   ]
  },
  {
   "cell_type": "markdown",
   "metadata": {
    "pycharm": {
     "name": "#%% md\n"
    }
   },
   "source": [
    "In deze notebook gaan we vooral focussen op het typische probleem van wordcount.\n",
    "Dit is een toepassing dat gaat tellen hoe vaak elk woord voorkomt in een bepaalde tekst.\n",
    "Om meer informatie over deze toepassing te krijgen kan je gebruik maken van het volgende commando:"
   ]
  },
  {
   "cell_type": "code",
   "execution_count": 2,
   "metadata": {
    "pycharm": {
     "name": "#%%\n"
    }
   },
   "outputs": [
    {
     "name": "stdout",
     "output_type": "stream",
     "text": [
      "Usage: wordcount <in> [<in>...] <out>\n"
     ]
    }
   ],
   "source": [
    "!hadoop jar hadoop-mapreduce-examples-3.3.6.jar wordcount"
   ]
  },
  {
   "cell_type": "markdown",
   "metadata": {
    "pycharm": {
     "name": "#%% md\n"
    }
   },
   "source": [
    "In de eerste cell hebben we het input.txt bestand geupload. Of dit correct gebeurd is kan je controleren op de [file explorer van het hdfs](http://localhost:9870/explorer.html#/user/bigdata)\n",
    "\n",
    "Met onderstaande commando kan nu het precompiled word count example uitgevoerd worden"
   ]
  },
  {
   "cell_type": "code",
   "execution_count": 8,
   "metadata": {
    "pycharm": {
     "name": "#%%\n"
    }
   },
   "outputs": [
    {
     "name": "stdout",
     "output_type": "stream",
     "text": [
      "2024-02-27 10:45:48,515 INFO client.DefaultNoHARMFailoverProxyProvider: Connecting to ResourceManager at resourcemanager/172.20.0.4:8032\n",
      "2024-02-27 10:45:48,703 INFO client.AHSProxy: Connecting to Application History server at historyserver/172.20.0.5:10200\n",
      "2024-02-27 10:45:49,247 INFO mapreduce.JobResourceUploader: Disabling Erasure Coding for path: /tmp/hadoop-yarn/staging/root/.staging/job_1709017322874_0001\n",
      "2024-02-27 10:45:49,725 INFO input.FileInputFormat: Total input files to process : 1\n",
      "2024-02-27 10:45:49,846 INFO mapreduce.JobSubmitter: number of splits:1\n",
      "2024-02-27 10:45:50,145 INFO mapreduce.JobSubmitter: Submitting tokens for job: job_1709017322874_0001\n",
      "2024-02-27 10:45:50,145 INFO mapreduce.JobSubmitter: Executing with tokens: []\n",
      "2024-02-27 10:45:50,343 INFO conf.Configuration: resource-types.xml not found\n",
      "2024-02-27 10:45:50,343 INFO resource.ResourceUtils: Unable to find 'resource-types.xml'.\n",
      "2024-02-27 10:45:50,837 INFO impl.YarnClientImpl: Submitted application application_1709017322874_0001\n",
      "2024-02-27 10:45:51,200 INFO mapreduce.Job: The url to track the job: http://resourcemanager:8088/proxy/application_1709017322874_0001/\n",
      "2024-02-27 10:45:51,202 INFO mapreduce.Job: Running job: job_1709017322874_0001\n",
      "2024-02-27 10:46:05,944 INFO mapreduce.Job: Job job_1709017322874_0001 running in uber mode : false\n",
      "2024-02-27 10:46:05,945 INFO mapreduce.Job:  map 0% reduce 0%\n",
      "2024-02-27 10:46:12,995 INFO mapreduce.Job:  map 100% reduce 0%\n",
      "2024-02-27 10:46:18,033 INFO mapreduce.Job:  map 100% reduce 100%\n",
      "2024-02-27 10:46:19,042 INFO mapreduce.Job: Job job_1709017322874_0001 completed successfully\n",
      "2024-02-27 10:46:19,123 INFO mapreduce.Job: Counters: 54\n",
      "\tFile System Counters\n",
      "\t\tFILE: Number of bytes read=129\n",
      "\t\tFILE: Number of bytes written=559405\n",
      "\t\tFILE: Number of read operations=0\n",
      "\t\tFILE: Number of large read operations=0\n",
      "\t\tFILE: Number of write operations=0\n",
      "\t\tHDFS: Number of bytes read=229\n",
      "\t\tHDFS: Number of bytes written=111\n",
      "\t\tHDFS: Number of read operations=8\n",
      "\t\tHDFS: Number of large read operations=0\n",
      "\t\tHDFS: Number of write operations=2\n",
      "\t\tHDFS: Number of bytes read erasure-coded=0\n",
      "\tJob Counters \n",
      "\t\tLaunched map tasks=1\n",
      "\t\tLaunched reduce tasks=1\n",
      "\t\tRack-local map tasks=1\n",
      "\t\tTotal time spent by all maps in occupied slots (ms)=16840\n",
      "\t\tTotal time spent by all reduces in occupied slots (ms)=16000\n",
      "\t\tTotal time spent by all map tasks (ms)=4210\n",
      "\t\tTotal time spent by all reduce tasks (ms)=2000\n",
      "\t\tTotal vcore-milliseconds taken by all map tasks=4210\n",
      "\t\tTotal vcore-milliseconds taken by all reduce tasks=2000\n",
      "\t\tTotal megabyte-milliseconds taken by all map tasks=17244160\n",
      "\t\tTotal megabyte-milliseconds taken by all reduce tasks=16384000\n",
      "\tMap-Reduce Framework\n",
      "\t\tMap input records=5\n",
      "\t\tMap output records=18\n",
      "\t\tMap output bytes=176\n",
      "\t\tMap output materialized bytes=121\n",
      "\t\tInput split bytes=118\n",
      "\t\tCombine input records=18\n",
      "\t\tCombine output records=15\n",
      "\t\tReduce input groups=15\n",
      "\t\tReduce shuffle bytes=121\n",
      "\t\tReduce input records=15\n",
      "\t\tReduce output records=15\n",
      "\t\tSpilled Records=30\n",
      "\t\tShuffled Maps =1\n",
      "\t\tFailed Shuffles=0\n",
      "\t\tMerged Map outputs=1\n",
      "\t\tGC time elapsed (ms)=190\n",
      "\t\tCPU time spent (ms)=1420\n",
      "\t\tPhysical memory (bytes) snapshot=475631616\n",
      "\t\tVirtual memory (bytes) snapshot=13422231552\n",
      "\t\tTotal committed heap usage (bytes)=346030080\n",
      "\t\tPeak Map Physical memory (bytes)=260505600\n",
      "\t\tPeak Map Virtual memory (bytes)=5040066560\n",
      "\t\tPeak Reduce Physical memory (bytes)=215134208\n",
      "\t\tPeak Reduce Virtual memory (bytes)=8382164992\n",
      "\tShuffle Errors\n",
      "\t\tBAD_ID=0\n",
      "\t\tCONNECTION=0\n",
      "\t\tIO_ERROR=0\n",
      "\t\tWRONG_LENGTH=0\n",
      "\t\tWRONG_MAP=0\n",
      "\t\tWRONG_REDUCE=0\n",
      "\tFile Input Format Counters \n",
      "\t\tBytes Read=111\n",
      "\tFile Output Format Counters \n",
      "\t\tBytes Written=111\n"
     ]
    }
   ],
   "source": [
    "!hadoop jar hadoop-mapreduce-examples-3.3.6.jar wordcount /user/bigdata/MapReduce/input.txt /user/bigdata/MapReduce/output"
   ]
  },
  {
   "cell_type": "markdown",
   "metadata": {
    "pycharm": {
     "name": "#%% md\n"
    }
   },
   "source": [
    "Na het uitvoeren van het wordcount applicatie is er op het HDFS een extra folder toegevoegd met als naam **output**.\n",
    "De plaats waar de output bewaard wordt is opgegeven in het bovenstaande commando en kan bekeken worden via de file-explorer van het hdfs.\n",
    "Deze folder bevat de volgende files:\n",
    "* Een _SUCCESS file dat leeg is. Deze file wordt gebruikt om aan te geven dat de MapReduce applicatie die resulteerde in de output goed afgerond was.\n",
    "* Een part-r-00000 file dat de output bevat. Indien de output te groot is kan het zijn dat deze file in meerdere files gesplitst wordt. Hier is dit niet het geval en bevat deze file alle ouput. De output van het bovenstaande commando zijn key-value paren waar de keys de verschillende woorden zijn en de values hoeveel keer elk woord voorkomt.\n",
    "\n",
    "De output van het commando kan dan met onderstaande code uitgelezen worden:"
   ]
  },
  {
   "cell_type": "code",
   "execution_count": 9,
   "metadata": {},
   "outputs": [
    {
     "name": "stdout",
     "output_type": "stream",
     "text": [
      "!\t1\n",
      "Dit\t1\n",
      "Hello\t1\n",
      "Wordcount\t1\n",
      "World,\t1\n",
      "een\t1\n",
      "file\t1\n",
      "hello\t2\n",
      "het\t1\n",
      "is\t1\n",
      "om\t1\n",
      "te\t1\n",
      "testen\t1\n",
      "voorbeeld\t2\n",
      "world,\t2\n",
      "\n"
     ]
    }
   ],
   "source": [
    "with client.read(map + '/output/part-r-00000') as reader:\n",
    "    content = reader.read()\n",
    "    print(content.decode('utf-8'))"
   ]
  },
  {
   "cell_type": "markdown",
   "metadata": {},
   "source": [
    "## Logs/process monitoring\n",
    "\n",
    "Bovestaande wordcount applicatie wordt uitgevoerd op YARN op de verschillende nodes van de cluster. Dit houdt in dat YARN gebruikt kan worden om de status van de applicatie op te volgen. Hiervoork kan je server naar [de webpagina van Yarn](http://localhost:8088). Na het klikken op de juiste status krijg je de correcte applicatie te zien. Hier kan je ook de logs bekijken door op logs te klikken.\n",
    "\n",
    "**LET OP: Doordat we in de webbrowser buiten de docker-containers zitten, kunnen we niet de historyserver hostname gebruiken. Als je een DNS-lookup error krijgt, vervang dan de domeinnaam/hostname door localhost.**"
   ]
  },
  {
   "cell_type": "markdown",
   "metadata": {
    "pycharm": {
     "name": "#%% md\n"
    }
   },
   "source": [
    "## OEFENING: MAPREDUCE \n",
    "\n",
    "Probeer nu op basis van bovenstaande reeds bestaande applicaties de gemiddelde lengte van de woorden in de text te bepalen."
   ]
  },
  {
   "cell_type": "code",
   "execution_count": 2,
   "metadata": {
    "pycharm": {
     "name": "#%%\n"
    }
   },
   "outputs": [
    {
     "name": "stdout",
     "output_type": "stream",
     "text": [
      "2024-03-05 07:42:06,555 INFO client.DefaultNoHARMFailoverProxyProvider: Connecting to ResourceManager at resourcemanager/172.20.0.9:8032\n",
      "2024-03-05 07:42:06,675 INFO client.AHSProxy: Connecting to Application History server at historyserver/172.20.0.3:10200\n",
      "2024-03-05 07:42:06,861 INFO mapreduce.JobResourceUploader: Disabling Erasure Coding for path: /tmp/hadoop-yarn/staging/root/.staging/job_1709623304250_0001\n",
      "2024-03-05 07:42:07,098 INFO input.FileInputFormat: Total input files to process : 1\n",
      "2024-03-05 07:42:07,183 INFO mapreduce.JobSubmitter: number of splits:1\n",
      "2024-03-05 07:42:07,275 INFO mapreduce.JobSubmitter: Submitting tokens for job: job_1709623304250_0001\n",
      "2024-03-05 07:42:07,276 INFO mapreduce.JobSubmitter: Executing with tokens: []\n",
      "2024-03-05 07:42:07,402 INFO conf.Configuration: resource-types.xml not found\n",
      "2024-03-05 07:42:07,402 INFO resource.ResourceUtils: Unable to find 'resource-types.xml'.\n",
      "2024-03-05 07:42:07,686 INFO impl.YarnClientImpl: Submitted application application_1709623304250_0001\n",
      "2024-03-05 07:42:07,759 INFO mapreduce.Job: The url to track the job: http://resourcemanager:8088/proxy/application_1709623304250_0001/\n",
      "2024-03-05 07:42:07,759 INFO mapreduce.Job: Running job: job_1709623304250_0001\n",
      "2024-03-05 07:42:13,824 INFO mapreduce.Job: Job job_1709623304250_0001 running in uber mode : false\n",
      "2024-03-05 07:42:13,825 INFO mapreduce.Job:  map 0% reduce 0%\n",
      "2024-03-05 07:42:18,871 INFO mapreduce.Job:  map 100% reduce 0%\n",
      "2024-03-05 07:42:22,889 INFO mapreduce.Job:  map 100% reduce 100%\n",
      "2024-03-05 07:42:22,896 INFO mapreduce.Job: Job job_1709623304250_0001 completed successfully\n",
      "2024-03-05 07:42:22,960 INFO mapreduce.Job: Counters: 54\n",
      "\tFile System Counters\n",
      "\t\tFILE: Number of bytes read=45\n",
      "\t\tFILE: Number of bytes written=559247\n",
      "\t\tFILE: Number of read operations=0\n",
      "\t\tFILE: Number of large read operations=0\n",
      "\t\tFILE: Number of write operations=0\n",
      "\t\tHDFS: Number of bytes read=229\n",
      "\t\tHDFS: Number of bytes written=19\n",
      "\t\tHDFS: Number of read operations=8\n",
      "\t\tHDFS: Number of large read operations=0\n",
      "\t\tHDFS: Number of write operations=2\n",
      "\t\tHDFS: Number of bytes read erasure-coded=0\n",
      "\tJob Counters \n",
      "\t\tLaunched map tasks=1\n",
      "\t\tLaunched reduce tasks=1\n",
      "\t\tRack-local map tasks=1\n",
      "\t\tTotal time spent by all maps in occupied slots (ms)=6220\n",
      "\t\tTotal time spent by all reduces in occupied slots (ms)=14632\n",
      "\t\tTotal time spent by all map tasks (ms)=1555\n",
      "\t\tTotal time spent by all reduce tasks (ms)=1829\n",
      "\t\tTotal vcore-milliseconds taken by all map tasks=1555\n",
      "\t\tTotal vcore-milliseconds taken by all reduce tasks=1829\n",
      "\t\tTotal megabyte-milliseconds taken by all map tasks=6369280\n",
      "\t\tTotal megabyte-milliseconds taken by all reduce tasks=14983168\n",
      "\tMap-Reduce Framework\n",
      "\t\tMap input records=5\n",
      "\t\tMap output records=36\n",
      "\t\tMap output bytes=522\n",
      "\t\tMap output materialized bytes=37\n",
      "\t\tInput split bytes=118\n",
      "\t\tCombine input records=36\n",
      "\t\tCombine output records=2\n",
      "\t\tReduce input groups=2\n",
      "\t\tReduce shuffle bytes=37\n",
      "\t\tReduce input records=2\n",
      "\t\tReduce output records=2\n",
      "\t\tSpilled Records=4\n",
      "\t\tShuffled Maps =1\n",
      "\t\tFailed Shuffles=0\n",
      "\t\tMerged Map outputs=1\n",
      "\t\tGC time elapsed (ms)=102\n",
      "\t\tCPU time spent (ms)=790\n",
      "\t\tPhysical memory (bytes) snapshot=530165760\n",
      "\t\tVirtual memory (bytes) snapshot=13426135040\n",
      "\t\tTotal committed heap usage (bytes)=372768768\n",
      "\t\tPeak Map Physical memory (bytes)=263962624\n",
      "\t\tPeak Map Virtual memory (bytes)=5041082368\n",
      "\t\tPeak Reduce Physical memory (bytes)=266203136\n",
      "\t\tPeak Reduce Virtual memory (bytes)=8385052672\n",
      "\tShuffle Errors\n",
      "\t\tBAD_ID=0\n",
      "\t\tCONNECTION=0\n",
      "\t\tIO_ERROR=0\n",
      "\t\tWRONG_LENGTH=0\n",
      "\t\tWRONG_MAP=0\n",
      "\t\tWRONG_REDUCE=0\n",
      "\tFile Input Format Counters \n",
      "\t\tBytes Read=111\n",
      "\tFile Output Format Counters \n",
      "\t\tBytes Written=19\n",
      "The mean is: 4.777777777777778\n"
     ]
    }
   ],
   "source": [
    "!hadoop jar hadoop-mapreduce-examples-3.3.6.jar wordmean /user/bigdata/MapReduce/input.txt /user/bigdata/MapReduce/output_mean"
   ]
  },
  {
   "cell_type": "code",
   "execution_count": 3,
   "metadata": {},
   "outputs": [
    {
     "name": "stdout",
     "output_type": "stream",
     "text": [
      "count\t18\n",
      "length\t86\n",
      "\n"
     ]
    }
   ],
   "source": [
    "with client.read(map + '/output_mean/part-r-00000') as reader:\n",
    "    content = reader.read()\n",
    "    print(content.decode('utf-8'))"
   ]
  },
  {
   "cell_type": "markdown",
   "metadata": {
    "pycharm": {
     "name": "#%% md\n"
    }
   },
   "source": [
    "De resource manager houdt ook een overzicht bij van de uitgevoerde applicaties, hun status, runtime en eventuele loggings. Na bovenstaande commando's uit te voeren moet je iets gelijkaardigs zien als in de onderstaande screenshot.\n",
    "\n",
    "![yarn of mapreduce](images/yarn_001.png)\n",
    "\n",
    "## Zelf implementeren van MapReduce applicaties\n",
    "\n",
    "Natuurlijk zijn er veel meer zaken mogelijk om te berekenen met map-reduce toepassingen dan de reeds gecompileerde in hadoop.\n",
    "Zoals eerder aangehaald valt vooral het coderen van de Map- en Reducestap hierbij op de schouders van de developer.\n",
    "De standaard programmeertaal van MapReduce is Java en dus ook het grootste deel van de documentatie over MapReduce is geschreven met behulp van Java.\n",
    "Deze programmas moeten dan gecompileerd worden tot een jar dat geupload kan worden naar de overeenkomstige nodes en daar uitgevoerd.\n",
    "De api overview van hadoop kan je [hier](https://hadoop.apache.org/docs/stable/api/org/apache/hadoop/mapred/package-summary.html) vinden.\n",
    "\n",
    "De code voor het wordcount example ziet er als volgt uit:"
   ]
  },
  {
   "cell_type": "code",
   "execution_count": 10,
   "metadata": {
    "pycharm": {
     "name": "#%%\n"
    }
   },
   "outputs": [
    {
     "name": "stdout",
     "output_type": "stream",
     "text": [
      "Writing WordCount.java\n"
     ]
    }
   ],
   "source": [
    "%%file WordCount.java\n",
    "// dit schrijft onderstaande cell naar een file in de huidige directory\n",
    "import java.io.IOException;\n",
    "import java.util.StringTokenizer;\n",
    "\n",
    "import org.apache.hadoop.conf.Configuration;\n",
    "import org.apache.hadoop.fs.Path;\n",
    "import org.apache.hadoop.io.IntWritable;\n",
    "import org.apache.hadoop.io.Text;\n",
    "import org.apache.hadoop.mapreduce.Job;\n",
    "import org.apache.hadoop.mapreduce.Mapper;\n",
    "import org.apache.hadoop.mapreduce.Reducer;\n",
    "import org.apache.hadoop.mapreduce.lib.input.FileInputFormat;\n",
    "import org.apache.hadoop.mapreduce.lib.output.FileOutputFormat;\n",
    "\n",
    "public class WordCount {\n",
    "\n",
    "    // Mapper de classes na extends Mapper<> zijn input-key, input-value, output-key, output-value\n",
    "    public static class TokenizerMapper extends Mapper<Object, Text, Text, IntWritable>{\n",
    "\n",
    "        private final static IntWritable one = new IntWritable(1);\n",
    "        private Text word = new Text();\n",
    "\n",
    "        public void map(Object key, Text value, Context context) throws IOException, InterruptedException {\n",
    "            // value bevat de tekst in de huidige blok\n",
    "            // de StringTokenizer maakt het mogelijk om over elk woord te lopen\n",
    "            StringTokenizer itr = new StringTokenizer(value.toString());\n",
    "            // while-loop over alle woorden in de blocks op elke node\n",
    "            while (itr.hasMoreTokens()) {\n",
    "                // convert the token naar een text waarde\n",
    "                word.set(itr.nextToken());\n",
    "                // voeg een entry toe voor elk woord dat gezien wordt (deze worden in de reduce opgeteld)\n",
    "                context.write(word, one);\n",
    "            }\n",
    "        }\n",
    "    }\n",
    "\n",
    "    // Reducer: de classes na extends Reducer<> zijn input-key, input-value, output-key, output-value\n",
    "    public static class IntSumReducer extends Reducer<Text,IntWritable,Text,IntWritable> {\n",
    "        private IntWritable result = new IntWritable();\n",
    "\n",
    "        public void reduce(Text key, Iterable<IntWritable> values, Context context) throws IOException, InterruptedException {\n",
    "            int sum = 0;\n",
    "            for (IntWritable val : values) {\n",
    "                sum += val.get();\n",
    "            }\n",
    "            result.set(sum);\n",
    "            context.write(key, result);\n",
    "        }\n",
    "    }\n",
    "\n",
    "    // configure the MapReduce program\n",
    "    public static void main(String[] args) throws Exception {\n",
    "        Configuration conf = new Configuration();\n",
    "        Job job = Job.getInstance(conf, \"word count java\");\n",
    "        job.setJarByClass(WordCount.class);\n",
    "        // configure mapper\n",
    "        job.setMapperClass(TokenizerMapper.class);\n",
    "        // configure combiner (soort van reducer die draait op mapping node voor performantie)\n",
    "        job.setCombinerClass(IntSumReducer.class);\n",
    "        // configure reducer\n",
    "        job.setReducerClass(IntSumReducer.class);\n",
    "        // set output key-value classes\n",
    "        job.setOutputKeyClass(Text.class);\n",
    "        job.setOutputValueClass(IntWritable.class);\n",
    "        // set input file (first argument passed to the program)\n",
    "        FileInputFormat.addInputPath(job, new Path(args[0]));\n",
    "        // set output file  (second argument passed to the program)\n",
    "        FileOutputFormat.setOutputPath(job, new Path(args[1]));\n",
    "        // In this case, we wait for completion to get the output/logs and not stop the program to early.\n",
    "        System.exit(job.waitForCompletion(true) ? 0 : 1);\n",
    "    }\n",
    "}"
   ]
  },
  {
   "cell_type": "markdown",
   "metadata": {
    "pycharm": {
     "name": "#%% md\n"
    }
   },
   "source": [
    "Deze code bevat drie delen:\n",
    "* De main() functie: verzorgt de configuratie van de uit te voeren taak. Geeft aan wat de Map en Reduce klassen zijn, wat de input is, hoe de output bewaard wordt ,...\n",
    "* De Map-klasse met de map() functie bevat de code voor de mapping-fase\n",
    "* De Reduce-klasse met de reduce() functie bevat de code voor de reduce-fase\n",
    "\n",
    "De laatste twee klassen zijn hier gecodeerd als geneste klassen. Deze hadden ook in aparte files geplaatst kunnen worden.\n",
    "Nu moet deze code eerst omgezet/gecompileerd worden tot een .jar file. Deze kan dan analoog uitgevoerd worden als hierboven met het voorbeeldcode.\n",
    "Deze twee stappen kunnen uitgevoerd worden door onderstaande commando's."
   ]
  },
  {
   "cell_type": "code",
   "execution_count": 11,
   "metadata": {
    "pycharm": {
     "name": "#%%\n"
    }
   },
   "outputs": [
    {
     "name": "stdout",
     "output_type": "stream",
     "text": [
      "added manifest\n",
      "adding: WordCount$IntSumReducer.class(in = 1739) (out= 739)(deflated 57%)\n",
      "adding: WordCount$TokenizerMapper.class(in = 1736) (out= 754)(deflated 56%)\n",
      "adding: WordCount.class(in = 1496) (out= 818)(deflated 45%)\n"
     ]
    }
   ],
   "source": [
    "# compileren tot .jar\n",
    "!javac -cp \"hadoop-common-3.3.6.jar:hadoop-mapreduce-client-core-3.3.6.jar\" -d . WordCount.java\n",
    "!jar cvf wordcounter.jar *.class"
   ]
  },
  {
   "cell_type": "code",
   "execution_count": 12,
   "metadata": {
    "pycharm": {
     "name": "#%%\n"
    }
   },
   "outputs": [
    {
     "name": "stdout",
     "output_type": "stream",
     "text": [
      "2024-02-27 10:56:04,868 INFO client.DefaultNoHARMFailoverProxyProvider: Connecting to ResourceManager at resourcemanager/172.20.0.4:8032\n",
      "2024-02-27 10:56:04,977 INFO client.AHSProxy: Connecting to Application History server at historyserver/172.20.0.5:10200\n",
      "2024-02-27 10:56:05,116 WARN mapreduce.JobResourceUploader: Hadoop command-line option parsing not performed. Implement the Tool interface and execute your application with ToolRunner to remedy this.\n",
      "2024-02-27 10:56:05,128 INFO mapreduce.JobResourceUploader: Disabling Erasure Coding for path: /tmp/hadoop-yarn/staging/root/.staging/job_1709017322874_0002\n",
      "2024-02-27 10:56:05,382 INFO input.FileInputFormat: Total input files to process : 1\n",
      "2024-02-27 10:56:05,475 INFO mapreduce.JobSubmitter: number of splits:1\n",
      "2024-02-27 10:56:05,568 INFO mapreduce.JobSubmitter: Submitting tokens for job: job_1709017322874_0002\n",
      "2024-02-27 10:56:05,568 INFO mapreduce.JobSubmitter: Executing with tokens: []\n",
      "2024-02-27 10:56:05,719 INFO conf.Configuration: resource-types.xml not found\n",
      "2024-02-27 10:56:05,720 INFO resource.ResourceUtils: Unable to find 'resource-types.xml'.\n",
      "2024-02-27 10:56:05,984 INFO impl.YarnClientImpl: Submitted application application_1709017322874_0002\n",
      "2024-02-27 10:56:06,037 INFO mapreduce.Job: The url to track the job: http://resourcemanager:8088/proxy/application_1709017322874_0002/\n",
      "2024-02-27 10:56:06,038 INFO mapreduce.Job: Running job: job_1709017322874_0002\n",
      "2024-02-27 10:56:12,127 INFO mapreduce.Job: Job job_1709017322874_0002 running in uber mode : false\n",
      "2024-02-27 10:56:12,128 INFO mapreduce.Job:  map 0% reduce 0%\n",
      "2024-02-27 10:56:18,281 INFO mapreduce.Job:  map 100% reduce 0%\n",
      "2024-02-27 10:56:23,305 INFO mapreduce.Job:  map 100% reduce 100%\n",
      "2024-02-27 10:56:23,310 INFO mapreduce.Job: Job job_1709017322874_0002 completed successfully\n",
      "2024-02-27 10:56:23,379 INFO mapreduce.Job: Counters: 54\n",
      "\tFile System Counters\n",
      "\t\tFILE: Number of bytes read=129\n",
      "\t\tFILE: Number of bytes written=558917\n",
      "\t\tFILE: Number of read operations=0\n",
      "\t\tFILE: Number of large read operations=0\n",
      "\t\tFILE: Number of write operations=0\n",
      "\t\tHDFS: Number of bytes read=229\n",
      "\t\tHDFS: Number of bytes written=111\n",
      "\t\tHDFS: Number of read operations=8\n",
      "\t\tHDFS: Number of large read operations=0\n",
      "\t\tHDFS: Number of write operations=2\n",
      "\t\tHDFS: Number of bytes read erasure-coded=0\n",
      "\tJob Counters \n",
      "\t\tLaunched map tasks=1\n",
      "\t\tLaunched reduce tasks=1\n",
      "\t\tRack-local map tasks=1\n",
      "\t\tTotal time spent by all maps in occupied slots (ms)=12756\n",
      "\t\tTotal time spent by all reduces in occupied slots (ms)=13528\n",
      "\t\tTotal time spent by all map tasks (ms)=3189\n",
      "\t\tTotal time spent by all reduce tasks (ms)=1691\n",
      "\t\tTotal vcore-milliseconds taken by all map tasks=3189\n",
      "\t\tTotal vcore-milliseconds taken by all reduce tasks=1691\n",
      "\t\tTotal megabyte-milliseconds taken by all map tasks=13062144\n",
      "\t\tTotal megabyte-milliseconds taken by all reduce tasks=13852672\n",
      "\tMap-Reduce Framework\n",
      "\t\tMap input records=5\n",
      "\t\tMap output records=18\n",
      "\t\tMap output bytes=176\n",
      "\t\tMap output materialized bytes=121\n",
      "\t\tInput split bytes=118\n",
      "\t\tCombine input records=18\n",
      "\t\tCombine output records=15\n",
      "\t\tReduce input groups=15\n",
      "\t\tReduce shuffle bytes=121\n",
      "\t\tReduce input records=15\n",
      "\t\tReduce output records=15\n",
      "\t\tSpilled Records=30\n",
      "\t\tShuffled Maps =1\n",
      "\t\tFailed Shuffles=0\n",
      "\t\tMerged Map outputs=1\n",
      "\t\tGC time elapsed (ms)=131\n",
      "\t\tCPU time spent (ms)=960\n",
      "\t\tPhysical memory (bytes) snapshot=527171584\n",
      "\t\tVirtual memory (bytes) snapshot=13421461504\n",
      "\t\tTotal committed heap usage (bytes)=368050176\n",
      "\t\tPeak Map Physical memory (bytes)=262119424\n",
      "\t\tPeak Map Virtual memory (bytes)=5036867584\n",
      "\t\tPeak Reduce Physical memory (bytes)=265052160\n",
      "\t\tPeak Reduce Virtual memory (bytes)=8384593920\n",
      "\tShuffle Errors\n",
      "\t\tBAD_ID=0\n",
      "\t\tCONNECTION=0\n",
      "\t\tIO_ERROR=0\n",
      "\t\tWRONG_LENGTH=0\n",
      "\t\tWRONG_MAP=0\n",
      "\t\tWRONG_REDUCE=0\n",
      "\tFile Input Format Counters \n",
      "\t\tBytes Read=111\n",
      "\tFile Output Format Counters \n",
      "\t\tBytes Written=111\n"
     ]
    }
   ],
   "source": [
    "# execute\n",
    "!hadoop jar wordcounter.jar WordCount /user/bigdata/MapReduce/input.txt /user/bigdata/MapReduce/output_java"
   ]
  },
  {
   "cell_type": "code",
   "execution_count": 13,
   "metadata": {},
   "outputs": [
    {
     "name": "stdout",
     "output_type": "stream",
     "text": [
      "!\t1\n",
      "Dit\t1\n",
      "Hello\t1\n",
      "Wordcount\t1\n",
      "World,\t1\n",
      "een\t1\n",
      "file\t1\n",
      "hello\t2\n",
      "het\t1\n",
      "is\t1\n",
      "om\t1\n",
      "te\t1\n",
      "testen\t1\n",
      "voorbeeld\t2\n",
      "world,\t2\n",
      "\n"
     ]
    }
   ],
   "source": [
    "with client.read(map + '/output_java/part-r-00000') as reader:\n",
    "    content = reader.read()\n",
    "    print(content.decode('utf-8'))"
   ]
  },
  {
   "cell_type": "markdown",
   "metadata": {
    "pycharm": {
     "name": "#%% md\n"
    }
   },
   "source": [
    "## Implementeren via Python\n",
    "\n",
    "Hoewel het Hadoop Ecosysteem geprogrammeerd is in Java en het dus er goed mee samenwerkt, is het niet verplicht om Java te gebruiken om MapReduce applicaties te schrijven.\n",
    "Java krijgt namelijk veel kritiek, vooral doordat er veel code nodig is om eenvoudige zaken te programmeren.\n",
    "Om andere programmeertalen te gebruiken worden er verscheidene API's aangeboden door Hadoop, namelijk\n",
    "* Hadoop Streaming\n",
    "    * Communicatie via stdin/stdout\n",
    "    * Gebruikt door hadoopy, mrjob, ...\n",
    "* Hadoop Pipes\n",
    "    * C++ interface voor Hadoop\n",
    "    * Communicatie via sockets\n",
    "    * Gebruikt door pydoop\n"
   ]
  },
  {
   "cell_type": "markdown",
   "metadata": {
    "pycharm": {
     "name": "#%% md\n"
    }
   },
   "source": [
    "### Mrjob\n",
    "\n",
    "De eerste API die we bekijken is MrJobs.\n",
    "Deze API maakt gebruik van de Hadoop Streaming API.\n",
    "De voordelen van MrJobs zijn:\n",
    "* Uitgebreidde documentatie\n",
    "* Code kan lokaal uitgevoerd worden als test\n",
    "* Data serialisatie gebeurt automatisch (nadeel van Streaming API)\n",
    "* Werkt met Amazon Elastic MapReduce en Google Cloud Dataproc\n",
    "\n",
    "Het grootste nadeel is dat de StreamingAPI niet de volledige kracht heeft van het Hadoop ecosysteem omdat alles omgezet wordt naar strings (jsons)\n",
    "\n",
    "Installatie van deze package zou reeds gebeurd moeten zijn, anders kan je het doen met behulp van het volgende commando:"
   ]
  },
  {
   "cell_type": "code",
   "execution_count": null,
   "metadata": {
    "pycharm": {
     "name": "#%%\n"
    }
   },
   "outputs": [],
   "source": [
    "!echo bigdata | sudo -S pip install mrjob"
   ]
  },
  {
   "cell_type": "code",
   "execution_count": 2,
   "metadata": {
    "pycharm": {
     "name": "#%%\n"
    }
   },
   "outputs": [
    {
     "name": "stdout",
     "output_type": "stream",
     "text": [
      "Overwriting wordcount_mrjob.py\n"
     ]
    }
   ],
   "source": [
    "%%file wordcount_mrjob.py\n",
    "# dit moet altijd in een python file zitten, %%file moet altijd vanboven staan\n",
    "# mrjob - wordcount example\n",
    "from mrjob.job import MRJob\n",
    "\n",
    "class MRWordCount(MRJob):\n",
    "    def mapper(self, _, line):\n",
    "        for word in line.split():\n",
    "            yield (word, 1)\n",
    "\n",
    "    def reducer(self, word, counts):\n",
    "        yield (word, sum(counts))\n",
    "\n",
    "if __name__ == '__main__':\n",
    "    MRWordCount.run()"
   ]
  },
  {
   "cell_type": "markdown",
   "metadata": {},
   "source": [
    "Deze code kan uitgevoerd worden door het commando hieronder.\n",
    "Er zijn twee belangrijke parameters om toe te voegen aan het commando.\n",
    "* -r: Deze parameter geeft aan welke file uitgelezen wordt. Dit kan een lokale file zijn of een file op het hdfs. Om een hdfs-file aan te spreken gebruik je de volgende structuur: hdfs:///{path to file}\n",
    "* -o: Deze parameter geeft aan waar de data moet bewaard worden. Als deze parameter ontbreekt wordt het in de stdout geprint. Met de parameter kan je aangeven in welke file (lokaal of hdfs) de output moet bewaard worden.\n",
    "\n",
    "Meer informatie over hoe mrjob applicaties gestart kunnen worden vind je in [de documentatie](https://mrjob.readthedocs.io/en/latest/guides/quickstart.html#running-your-job-different-ways)"
   ]
  },
  {
   "cell_type": "code",
   "execution_count": 4,
   "metadata": {
    "pycharm": {
     "name": "#%%\n"
    }
   },
   "outputs": [
    {
     "name": "stdout",
     "output_type": "stream",
     "text": [
      "No configs found; falling back on auto-configuration\n",
      "No configs specified for hadoop runner\n",
      "Looking for hadoop binary in /opt/hadoop-3.3.6/bin...\n",
      "Found hadoop binary: /opt/hadoop-3.3.6/bin/hadoop\n",
      "Using Hadoop version 3.3.6\n",
      "Looking for Hadoop streaming jar in /opt/hadoop-3.3.6...\n",
      "Found Hadoop streaming jar: /opt/hadoop-3.3.6/share/hadoop/tools/lib/hadoop-streaming-3.3.6.jar\n",
      "Creating temp directory /tmp/wordcount_mrjob.root.20240305.074936.029187\n",
      "uploading working dir files to hdfs:///user/root/tmp/mrjob/wordcount_mrjob.root.20240305.074936.029187/files/wd...\n",
      "Copying other local files to hdfs:///user/root/tmp/mrjob/wordcount_mrjob.root.20240305.074936.029187/files/\n",
      "Running step 1 of 1...\n",
      "  packageJobJar: [/tmp/hadoop-unjar1886861388484282530/] [] /tmp/streamjob6148184741574442559.jar tmpDir=null\n",
      "  Connecting to ResourceManager at resourcemanager/172.20.0.9:8032\n",
      "  Connecting to Application History server at historyserver/172.20.0.3:10200\n",
      "  Connecting to ResourceManager at resourcemanager/172.20.0.9:8032\n",
      "  Connecting to Application History server at historyserver/172.20.0.3:10200\n",
      "  Disabling Erasure Coding for path: /tmp/hadoop-yarn/staging/root/.staging/job_1709623304250_0002\n",
      "  Total input files to process : 1\n",
      "  number of splits:2\n",
      "  Submitting tokens for job: job_1709623304250_0002\n",
      "  Executing with tokens: []\n",
      "  resource-types.xml not found\n",
      "  Unable to find 'resource-types.xml'.\n",
      "  Submitted application application_1709623304250_0002\n",
      "  The url to track the job: http://resourcemanager:8088/proxy/application_1709623304250_0002/\n",
      "  Running job: job_1709623304250_0002\n",
      "  Job job_1709623304250_0002 running in uber mode : false\n",
      "   map 0% reduce 0%\n",
      "   map 50% reduce 0%\n",
      "   map 100% reduce 0%\n",
      "   map 100% reduce 100%\n",
      "  Job job_1709623304250_0002 completed successfully\n",
      "  Output directory: hdfs:///user/bigdata/MapReduce/output.txt\n",
      "Counters: 54\n",
      "\tFile Input Format Counters \n",
      "\t\tBytes Read=167\n",
      "\tFile Output Format Counters \n",
      "\t\tBytes Written=141\n",
      "\tFile System Counters\n",
      "\t\tFILE: Number of bytes read=140\n",
      "\t\tFILE: Number of bytes written=852177\n",
      "\t\tFILE: Number of large read operations=0\n",
      "\t\tFILE: Number of read operations=0\n",
      "\t\tFILE: Number of write operations=0\n",
      "\t\tHDFS: Number of bytes read=377\n",
      "\t\tHDFS: Number of bytes read erasure-coded=0\n",
      "\t\tHDFS: Number of bytes written=141\n",
      "\t\tHDFS: Number of large read operations=0\n",
      "\t\tHDFS: Number of read operations=11\n",
      "\t\tHDFS: Number of write operations=2\n",
      "\tJob Counters \n",
      "\t\tLaunched map tasks=2\n",
      "\t\tLaunched reduce tasks=1\n",
      "\t\tRack-local map tasks=2\n",
      "\t\tTotal megabyte-milliseconds taken by all map tasks=28901376\n",
      "\t\tTotal megabyte-milliseconds taken by all reduce tasks=14286848\n",
      "\t\tTotal time spent by all map tasks (ms)=7056\n",
      "\t\tTotal time spent by all maps in occupied slots (ms)=28224\n",
      "\t\tTotal time spent by all reduce tasks (ms)=1744\n",
      "\t\tTotal time spent by all reduces in occupied slots (ms)=13952\n",
      "\t\tTotal vcore-milliseconds taken by all map tasks=7056\n",
      "\t\tTotal vcore-milliseconds taken by all reduce tasks=1744\n",
      "\tMap-Reduce Framework\n",
      "\t\tCPU time spent (ms)=1910\n",
      "\t\tCombine input records=0\n",
      "\t\tCombine output records=0\n",
      "\t\tFailed Shuffles=0\n",
      "\t\tGC time elapsed (ms)=358\n",
      "\t\tInput split bytes=210\n",
      "\t\tMap input records=5\n",
      "\t\tMap output bytes=176\n",
      "\t\tMap output materialized bytes=146\n",
      "\t\tMap output records=18\n",
      "\t\tMerged Map outputs=2\n",
      "\t\tPeak Map Physical memory (bytes)=256897024\n",
      "\t\tPeak Map Virtual memory (bytes)=5041033216\n",
      "\t\tPeak Reduce Physical memory (bytes)=265101312\n",
      "\t\tPeak Reduce Virtual memory (bytes)=8386719744\n",
      "\t\tPhysical memory (bytes) snapshot=778100736\n",
      "\t\tReduce input groups=15\n",
      "\t\tReduce input records=18\n",
      "\t\tReduce output records=15\n",
      "\t\tReduce shuffle bytes=146\n",
      "\t\tShuffled Maps =2\n",
      "\t\tSpilled Records=36\n",
      "\t\tTotal committed heap usage (bytes)=545259520\n",
      "\t\tVirtual memory (bytes) snapshot=18467762176\n",
      "\tShuffle Errors\n",
      "\t\tBAD_ID=0\n",
      "\t\tCONNECTION=0\n",
      "\t\tIO_ERROR=0\n",
      "\t\tWRONG_LENGTH=0\n",
      "\t\tWRONG_MAP=0\n",
      "\t\tWRONG_REDUCE=0\n",
      "job output is in hdfs:///user/bigdata/MapReduce/output.txt\n",
      "Removing HDFS temp directory hdfs:///user/root/tmp/mrjob/wordcount_mrjob.root.20240305.074936.029187...\n",
      "Removing temp directory /tmp/wordcount_mrjob.root.20240305.074936.029187...\n"
     ]
    }
   ],
   "source": [
    "!python3 wordcount_mrjob.py -r hadoop hdfs:///user/bigdata/MapReduce/input.txt -o hdfs:///user/bigdata/MapReduce/output.txt\n",
    "\n",
    "# Probleem bij week 2 was dat er een spatie stond in de foldernaam"
   ]
  },
  {
   "cell_type": "code",
   "execution_count": 5,
   "metadata": {},
   "outputs": [
    {
     "name": "stdout",
     "output_type": "stream",
     "text": [
      "\"!\"\t1\n",
      "\"Dit\"\t1\n",
      "\"Hello\"\t1\n",
      "\"Wordcount\"\t1\n",
      "\"World,\"\t1\n",
      "\"een\"\t1\n",
      "\"file\"\t1\n",
      "\"hello\"\t2\n",
      "\"het\"\t1\n",
      "\"is\"\t1\n",
      "\"om\"\t1\n",
      "\"te\"\t1\n",
      "\"testen\"\t1\n",
      "\"voorbeeld\"\t2\n",
      "\"world,\"\t2\n",
      "\n"
     ]
    }
   ],
   "source": [
    "with client.read(map + '/output.txt/part-00000') as reader:\n",
    "    content = reader.read()\n",
    "    print(content.decode('utf-8'))"
   ]
  },
  {
   "cell_type": "markdown",
   "metadata": {},
   "source": [
    "De bovenstaande manier vereist echter dat je steeds een python-file aanmaakt die dan via commandline gestart wordt.\n",
    "De reden hiervoor is is dat **de file naar de cluster verstuurd wordt**.\n",
    "\n",
    "## Oefeningen\n",
    "\n",
    "Maak de nodige mapreduce applicaties voor de volgende zaken te berekenen (je moet de output niet bewaren in een file):\n",
    "* De gemiddelde woordlengte\n",
    "* Het aantal keer dat elk karakter voorkomt\n",
    "* Het aantal woorden dat begint met elke letter\n",
    "* Het aantal woorden in de tekst\n",
    "\n",
    "Als een applicatie crasht, kan het zijn dat ze op de cluster nog een hele tijd actief blijft en het starten van nieuwe applicaties kan tegenhouden.\n",
    "Met onderstaande commando kan je een bestande applicatie afsluiten/killen"
   ]
  },
  {
   "cell_type": "code",
   "execution_count": null,
   "metadata": {},
   "outputs": [],
   "source": [
    "# killen van een applicatie\n",
    "yarn application -kill <Application_ID>\n",
    "# appliation id kan je vinden via de webbrowser van yarn (localhost:8088)"
   ]
  },
  {
   "cell_type": "code",
   "execution_count": 12,
   "metadata": {},
   "outputs": [
    {
     "name": "stdout",
     "output_type": "stream",
     "text": [
      "Overwriting vraag1.py\n"
     ]
    }
   ],
   "source": [
    "%%file vraag1.py\n",
    "# vraag 1: gemiddelde woordlengte\n",
    "from mrjob.job import MRJob\n",
    "\n",
    "class Vraag1(MRJob):\n",
    "    def mapper(self, _, line):\n",
    "        for word in line.split():\n",
    "            yield (\"average length\", len(word)) # spatie kan gebruikt worden om een unieke key te hebben als je ook iets doet woord per woord\n",
    "\n",
    "    def reducer(self, word, counts):\n",
    "        # zelf itereren\n",
    "        # Calculate the average word length\n",
    "        #total_length = 0\n",
    "        #total_count = 0\n",
    "        #for value in values:\n",
    "        #    total_length += value\n",
    "        #    total_count += 1\n",
    "        #average_length = total_length / total_count\n",
    "        #yield (key, average_length)\n",
    "\n",
    "        # dit gaat niet werken want counts is een generator object\n",
    "        # wijst naar het eerste object, en dat heeft een functie next()\n",
    "        # je kan niet terug naar het begin gaan, je kan er maar 1 keer over itereren\n",
    "        #counts = list(counts)\n",
    "        mean = sum(counts) / len(counts)\n",
    "        print('mean', mean)\n",
    "        \n",
    "        yield (word, mean)\n",
    "\n",
    "if __name__ == '__main__':\n",
    "    Vraag1.run()"
   ]
  },
  {
   "cell_type": "code",
   "execution_count": 13,
   "metadata": {},
   "outputs": [
    {
     "name": "stdout",
     "output_type": "stream",
     "text": [
      "No configs found; falling back on auto-configuration\n",
      "No configs specified for hadoop runner\n",
      "Looking for hadoop binary in /opt/hadoop-3.3.6/bin...\n",
      "Found hadoop binary: /opt/hadoop-3.3.6/bin/hadoop\n",
      "Using Hadoop version 3.3.6\n",
      "Looking for Hadoop streaming jar in /opt/hadoop-3.3.6...\n",
      "Found Hadoop streaming jar: /opt/hadoop-3.3.6/share/hadoop/tools/lib/hadoop-streaming-3.3.6.jar\n",
      "Creating temp directory /tmp/vraag1.root.20240305.085049.802176\n",
      "uploading working dir files to hdfs:///user/root/tmp/mrjob/vraag1.root.20240305.085049.802176/files/wd...\n",
      "Copying other local files to hdfs:///user/root/tmp/mrjob/vraag1.root.20240305.085049.802176/files/\n",
      "Running step 1 of 1...\n",
      "  packageJobJar: [/tmp/hadoop-unjar1898398899789495779/] [] /tmp/streamjob5905063239708396912.jar tmpDir=null\n",
      "  Connecting to ResourceManager at resourcemanager/172.20.0.9:8032\n",
      "  Connecting to Application History server at historyserver/172.20.0.3:10200\n",
      "  Connecting to ResourceManager at resourcemanager/172.20.0.9:8032\n",
      "  Connecting to Application History server at historyserver/172.20.0.3:10200\n",
      "  Disabling Erasure Coding for path: /tmp/hadoop-yarn/staging/root/.staging/job_1709623304250_0004\n",
      "  Total input files to process : 1\n",
      "  number of splits:2\n",
      "  Submitting tokens for job: job_1709623304250_0004\n",
      "  Executing with tokens: []\n",
      "  resource-types.xml not found\n",
      "  Unable to find 'resource-types.xml'.\n",
      "  Submitted application application_1709623304250_0004\n",
      "  The url to track the job: http://resourcemanager:8088/proxy/application_1709623304250_0004/\n",
      "  Running job: job_1709623304250_0004\n",
      "  Job job_1709623304250_0004 running in uber mode : false\n",
      "   map 0% reduce 0%\n",
      "   map 50% reduce 0%\n",
      "   map 100% reduce 0%\n",
      "  Task Id : attempt_1709623304250_0004_r_000000_0, Status : FAILED\n",
      "Error: java.lang.RuntimeException: PipeMapRed.waitOutputThreads(): subprocess failed with code 1\n",
      "\tat org.apache.hadoop.streaming.PipeMapRed.waitOutputThreads(PipeMapRed.java:326)\n",
      "\tat org.apache.hadoop.streaming.PipeMapRed.mapRedFinished(PipeMapRed.java:539)\n",
      "\tat org.apache.hadoop.streaming.PipeReducer.close(PipeReducer.java:134)\n",
      "\tat org.apache.hadoop.mapred.ReduceTask.runOldReducer(ReduceTask.java:454)\n",
      "\tat org.apache.hadoop.mapred.ReduceTask.run(ReduceTask.java:393)\n",
      "\tat org.apache.hadoop.mapred.YarnChild$2.run(YarnChild.java:178)\n",
      "\tat java.security.AccessController.doPrivileged(Native Method)\n",
      "\tat javax.security.auth.Subject.doAs(Subject.java:422)\n",
      "\tat org.apache.hadoop.security.UserGroupInformation.doAs(UserGroupInformation.java:1899)\n",
      "\tat org.apache.hadoop.mapred.YarnChild.main(YarnChild.java:172)\n",
      "\n",
      "  Task Id : attempt_1709623304250_0004_r_000000_1, Status : FAILED\n",
      "Error: java.lang.RuntimeException: PipeMapRed.waitOutputThreads(): subprocess failed with code 1\n",
      "\tat org.apache.hadoop.streaming.PipeMapRed.waitOutputThreads(PipeMapRed.java:326)\n",
      "\tat org.apache.hadoop.streaming.PipeMapRed.mapRedFinished(PipeMapRed.java:539)\n",
      "\tat org.apache.hadoop.streaming.PipeReducer.close(PipeReducer.java:134)\n",
      "\tat org.apache.hadoop.mapred.ReduceTask.runOldReducer(ReduceTask.java:454)\n",
      "\tat org.apache.hadoop.mapred.ReduceTask.run(ReduceTask.java:393)\n",
      "\tat org.apache.hadoop.mapred.YarnChild$2.run(YarnChild.java:178)\n",
      "\tat java.security.AccessController.doPrivileged(Native Method)\n",
      "\tat javax.security.auth.Subject.doAs(Subject.java:422)\n",
      "\tat org.apache.hadoop.security.UserGroupInformation.doAs(UserGroupInformation.java:1899)\n",
      "\tat org.apache.hadoop.mapred.YarnChild.main(YarnChild.java:172)\n",
      "\n",
      "  Task Id : attempt_1709623304250_0004_r_000000_2, Status : FAILED\n",
      "Error: java.lang.RuntimeException: PipeMapRed.waitOutputThreads(): subprocess failed with code 1\n",
      "\tat org.apache.hadoop.streaming.PipeMapRed.waitOutputThreads(PipeMapRed.java:326)\n",
      "\tat org.apache.hadoop.streaming.PipeMapRed.mapRedFinished(PipeMapRed.java:539)\n",
      "\tat org.apache.hadoop.streaming.PipeReducer.close(PipeReducer.java:134)\n",
      "\tat org.apache.hadoop.mapred.ReduceTask.runOldReducer(ReduceTask.java:454)\n",
      "\tat org.apache.hadoop.mapred.ReduceTask.run(ReduceTask.java:393)\n",
      "\tat org.apache.hadoop.mapred.YarnChild$2.run(YarnChild.java:178)\n",
      "\tat java.security.AccessController.doPrivileged(Native Method)\n",
      "\tat javax.security.auth.Subject.doAs(Subject.java:422)\n",
      "\tat org.apache.hadoop.security.UserGroupInformation.doAs(UserGroupInformation.java:1899)\n",
      "\tat org.apache.hadoop.mapred.YarnChild.main(YarnChild.java:172)\n",
      "\n",
      "   map 100% reduce 100%\n",
      "  Job job_1709623304250_0004 failed with state FAILED due to: Task failed task_1709623304250_0004_r_000000\n",
      "Job failed as tasks failed. failedMaps:0 failedReduces:1 killedMaps:0 killedReduces: 0\n",
      "\n",
      "  Job not successful!\n",
      "  Streaming Command Failed!\n",
      "Counters: 40\n",
      "\tFile Input Format Counters \n",
      "\t\tBytes Read=167\n",
      "\tFile System Counters\n",
      "\t\tFILE: Number of bytes read=0\n",
      "\t\tFILE: Number of bytes written=567865\n",
      "\t\tFILE: Number of large read operations=0\n",
      "\t\tFILE: Number of read operations=0\n",
      "\t\tFILE: Number of write operations=0\n",
      "\t\tHDFS: Number of bytes read=377\n",
      "\t\tHDFS: Number of bytes read erasure-coded=0\n",
      "\t\tHDFS: Number of bytes written=0\n",
      "\t\tHDFS: Number of large read operations=0\n",
      "\t\tHDFS: Number of read operations=6\n",
      "\t\tHDFS: Number of write operations=0\n",
      "\tJob Counters \n",
      "\t\tFailed reduce tasks=4\n",
      "\t\tLaunched map tasks=2\n",
      "\t\tLaunched reduce tasks=4\n",
      "\t\tRack-local map tasks=2\n",
      "\t\tTotal megabyte-milliseconds taken by all map tasks=15806464\n",
      "\t\tTotal megabyte-milliseconds taken by all reduce tasks=55132160\n",
      "\t\tTotal time spent by all map tasks (ms)=3859\n",
      "\t\tTotal time spent by all maps in occupied slots (ms)=15436\n",
      "\t\tTotal time spent by all reduce tasks (ms)=6730\n",
      "\t\tTotal time spent by all reduces in occupied slots (ms)=53840\n",
      "\t\tTotal vcore-milliseconds taken by all map tasks=3859\n",
      "\t\tTotal vcore-milliseconds taken by all reduce tasks=6730\n",
      "\tMap-Reduce Framework\n",
      "\t\tCPU time spent (ms)=780\n",
      "\t\tCombine input records=0\n",
      "\t\tFailed Shuffles=0\n",
      "\t\tGC time elapsed (ms)=93\n",
      "\t\tInput split bytes=210\n",
      "\t\tMap input records=5\n",
      "\t\tMap output bytes=342\n",
      "\t\tMap output materialized bytes=77\n",
      "\t\tMap output records=18\n",
      "\t\tMerged Map outputs=0\n",
      "\t\tPeak Map Physical memory (bytes)=266854400\n",
      "\t\tPeak Map Virtual memory (bytes)=5041836032\n",
      "\t\tPhysical memory (bytes) snapshot=525410304\n",
      "\t\tSpilled Records=18\n",
      "\t\tTotal committed heap usage (bytes)=371195904\n",
      "\t\tVirtual memory (bytes) snapshot=10083528704\n",
      "Scanning logs for probable cause of failure...\n",
      "Looking for history log in hdfs:///tmp/hadoop-yarn/staging...\n",
      "Looking for history log in /opt/hadoop-3.3.6/logs...\n",
      "\n",
      "Probable cause of failure:\n",
      "\n",
      "Error: java.lang.RuntimeException: PipeMapRed.waitOutputThreads(): subprocess failed with code 1\n",
      "\tat org.apache.hadoop.streaming.PipeMapRed.waitOutputThreads(PipeMapRed.java:326)\n",
      "\tat org.apache.hadoop.streaming.PipeMapRed.mapRedFinished(PipeMapRed.java:539)\n",
      "\tat org.apache.hadoop.streaming.PipeReducer.close(PipeReducer.java:134)\n",
      "\tat org.apache.hadoop.mapred.ReduceTask.runOldReducer(ReduceTask.java:454)\n",
      "\tat org.apache.hadoop.mapred.ReduceTask.run(ReduceTask.java:393)\n",
      "\tat org.apache.hadoop.mapred.YarnChild$2.run(YarnChild.java:178)\n",
      "\tat java.security.AccessController.doPrivileged(Native Method)\n",
      "\tat javax.security.auth.Subject.doAs(Subject.java:422)\n",
      "\tat org.apache.hadoop.security.UserGroupInformation.doAs(UserGroupInformation.java:1899)\n",
      "\tat org.apache.hadoop.mapred.YarnChild.main(YarnChild.java:172)\n",
      "\n",
      "\n",
      "Step 1 of 1 failed: Command '['/opt/hadoop-3.3.6/bin/hadoop', 'jar', '/opt/hadoop-3.3.6/share/hadoop/tools/lib/hadoop-streaming-3.3.6.jar', '-files', 'hdfs:///user/root/tmp/mrjob/vraag1.root.20240305.085049.802176/files/wd/mrjob.zip#mrjob.zip,hdfs:///user/root/tmp/mrjob/vraag1.root.20240305.085049.802176/files/wd/setup-wrapper.sh#setup-wrapper.sh,hdfs:///user/root/tmp/mrjob/vraag1.root.20240305.085049.802176/files/wd/vraag1.py#vraag1.py', '-input', 'hdfs:///user/bigdata/MapReduce/input.txt', '-output', 'hdfs:///user/root/tmp/mrjob/vraag1.root.20240305.085049.802176/output', '-mapper', '/bin/sh -ex setup-wrapper.sh python3 vraag1.py --step-num=0 --mapper', '-reducer', '/bin/sh -ex setup-wrapper.sh python3 vraag1.py --step-num=0 --reducer']' returned non-zero exit status 256.\n"
     ]
    }
   ],
   "source": [
    "# test vraag 1\n",
    "!python3 vraag1.py -r hadoop hdfs:///user/bigdata/MapReduce/input.txt"
   ]
  },
  {
   "cell_type": "code",
   "execution_count": null,
   "metadata": {},
   "outputs": [],
   "source": [
    "# andere manier om de log files te bekijken van de applicatie:\n",
    "#!yarn logs -applicationId application_1709623304250_0004\n",
    "# yarn logs -containerId container_e34_1709623304250_0004_01_000007\n",
    "# https://hadoop.apache.org/docs/stable/hadoop-yarn/hadoop-yarn-site/YarnCommands.html"
   ]
  },
  {
   "cell_type": "code",
   "execution_count": 14,
   "metadata": {},
   "outputs": [
    {
     "name": "stdout",
     "output_type": "stream",
     "text": [
      "Writing vraag2.py\n"
     ]
    }
   ],
   "source": [
    "%%file vraag2.py\n",
    "# vraag 2: het aantal keer dat elk karakter voorkomt\n",
    "\n",
    "from mrjob.job import MRJob\n",
    "\n",
    "class Vraag2(MRJob):\n",
    "    def mapper(self, _, line):\n",
    "        for c in line:\n",
    "            if c.isalpha():\n",
    "                yield (c.lower(), 1)\n",
    "\n",
    "    def reducer(self, word, counts):\n",
    "        yield (word, sum(counts))\n",
    "\n",
    "if __name__ == '__main__':\n",
    "    Vraag2.run()"
   ]
  },
  {
   "cell_type": "code",
   "execution_count": 15,
   "metadata": {},
   "outputs": [
    {
     "name": "stdout",
     "output_type": "stream",
     "text": [
      "No configs found; falling back on auto-configuration\n",
      "No configs specified for hadoop runner\n",
      "Looking for hadoop binary in /opt/hadoop-3.3.6/bin...\n",
      "Found hadoop binary: /opt/hadoop-3.3.6/bin/hadoop\n",
      "Using Hadoop version 3.3.6\n",
      "Looking for Hadoop streaming jar in /opt/hadoop-3.3.6...\n",
      "Found Hadoop streaming jar: /opt/hadoop-3.3.6/share/hadoop/tools/lib/hadoop-streaming-3.3.6.jar\n",
      "Creating temp directory /tmp/vraag2.root.20240305.090005.269459\n",
      "uploading working dir files to hdfs:///user/root/tmp/mrjob/vraag2.root.20240305.090005.269459/files/wd...\n",
      "Copying other local files to hdfs:///user/root/tmp/mrjob/vraag2.root.20240305.090005.269459/files/\n",
      "Running step 1 of 1...\n",
      "  packageJobJar: [/tmp/hadoop-unjar5547305628161377497/] [] /tmp/streamjob3902315544997601875.jar tmpDir=null\n",
      "  Connecting to ResourceManager at resourcemanager/172.20.0.9:8032\n",
      "  Connecting to Application History server at historyserver/172.20.0.3:10200\n",
      "  Connecting to ResourceManager at resourcemanager/172.20.0.9:8032\n",
      "  Connecting to Application History server at historyserver/172.20.0.3:10200\n",
      "  Disabling Erasure Coding for path: /tmp/hadoop-yarn/staging/root/.staging/job_1709623304250_0005\n",
      "  Total input files to process : 1\n",
      "  number of splits:2\n",
      "  Submitting tokens for job: job_1709623304250_0005\n",
      "  Executing with tokens: []\n",
      "  resource-types.xml not found\n",
      "  Unable to find 'resource-types.xml'.\n",
      "  Submitted application application_1709623304250_0005\n",
      "  The url to track the job: http://resourcemanager:8088/proxy/application_1709623304250_0005/\n",
      "  Running job: job_1709623304250_0005\n",
      "  Job job_1709623304250_0005 running in uber mode : false\n",
      "   map 0% reduce 0%\n",
      "   map 50% reduce 0%\n",
      "   map 100% reduce 0%\n",
      "   map 100% reduce 100%\n",
      "  Job job_1709623304250_0005 completed successfully\n",
      "  Output directory: hdfs:///user/root/tmp/mrjob/vraag2.root.20240305.090005.269459/output\n",
      "Counters: 54\n",
      "\tFile Input Format Counters \n",
      "\t\tBytes Read=167\n",
      "\tFile Output Format Counters \n",
      "\t\tBytes Written=105\n",
      "\tFile System Counters\n",
      "\t\tFILE: Number of bytes read=79\n",
      "\t\tFILE: Number of bytes written=851788\n",
      "\t\tFILE: Number of large read operations=0\n",
      "\t\tFILE: Number of read operations=0\n",
      "\t\tFILE: Number of write operations=0\n",
      "\t\tHDFS: Number of bytes read=377\n",
      "\t\tHDFS: Number of bytes read erasure-coded=0\n",
      "\t\tHDFS: Number of bytes written=105\n",
      "\t\tHDFS: Number of large read operations=0\n",
      "\t\tHDFS: Number of read operations=11\n",
      "\t\tHDFS: Number of write operations=2\n",
      "\tJob Counters \n",
      "\t\tLaunched map tasks=2\n",
      "\t\tLaunched reduce tasks=1\n",
      "\t\tRack-local map tasks=2\n",
      "\t\tTotal megabyte-milliseconds taken by all map tasks=15245312\n",
      "\t\tTotal megabyte-milliseconds taken by all reduce tasks=15138816\n",
      "\t\tTotal time spent by all map tasks (ms)=3722\n",
      "\t\tTotal time spent by all maps in occupied slots (ms)=14888\n",
      "\t\tTotal time spent by all reduce tasks (ms)=1848\n",
      "\t\tTotal time spent by all reduces in occupied slots (ms)=14784\n",
      "\t\tTotal vcore-milliseconds taken by all map tasks=3722\n",
      "\t\tTotal vcore-milliseconds taken by all reduce tasks=1848\n",
      "\tMap-Reduce Framework\n",
      "\t\tCPU time spent (ms)=1330\n",
      "\t\tCombine input records=0\n",
      "\t\tCombine output records=0\n",
      "\t\tFailed Shuffles=0\n",
      "\t\tGC time elapsed (ms)=146\n",
      "\t\tInput split bytes=210\n",
      "\t\tMap input records=5\n",
      "\t\tMap output bytes=492\n",
      "\t\tMap output materialized bytes=85\n",
      "\t\tMap output records=82\n",
      "\t\tMerged Map outputs=2\n",
      "\t\tPeak Map Physical memory (bytes)=265318400\n",
      "\t\tPeak Map Virtual memory (bytes)=5042294784\n",
      "\t\tPeak Reduce Physical memory (bytes)=268353536\n",
      "\t\tPeak Reduce Virtual memory (bytes)=8388517888\n",
      "\t\tPhysical memory (bytes) snapshot=797929472\n",
      "\t\tReduce input groups=17\n",
      "\t\tReduce input records=82\n",
      "\t\tReduce output records=17\n",
      "\t\tReduce shuffle bytes=85\n",
      "\t\tShuffled Maps =2\n",
      "\t\tSpilled Records=164\n",
      "\t\tTotal committed heap usage (bytes)=552075264\n",
      "\t\tVirtual memory (bytes) snapshot=18471272448\n",
      "\tShuffle Errors\n",
      "\t\tBAD_ID=0\n",
      "\t\tCONNECTION=0\n",
      "\t\tIO_ERROR=0\n",
      "\t\tWRONG_LENGTH=0\n",
      "\t\tWRONG_MAP=0\n",
      "\t\tWRONG_REDUCE=0\n",
      "job output is in hdfs:///user/root/tmp/mrjob/vraag2.root.20240305.090005.269459/output\n",
      "Streaming final output from hdfs:///user/root/tmp/mrjob/vraag2.root.20240305.090005.269459/output...\n",
      "\"b\"\t2\n",
      "\"c\"\t1\n",
      "\"d\"\t7\n",
      "\"e\"\t14\n",
      "\"f\"\t1\n",
      "\"h\"\t4\n",
      "\"i\"\t3\n",
      "\"l\"\t12\n",
      "\"m\"\t1\n",
      "\"n\"\t3\n",
      "\"o\"\t13\n",
      "\"r\"\t6\n",
      "\"s\"\t2\n",
      "\"t\"\t6\n",
      "\"u\"\t1\n",
      "\"v\"\t2\n",
      "\"w\"\t4\n",
      "Removing HDFS temp directory hdfs:///user/root/tmp/mrjob/vraag2.root.20240305.090005.269459...\n",
      "Removing temp directory /tmp/vraag2.root.20240305.090005.269459...\n"
     ]
    }
   ],
   "source": [
    "# test vraag 2\n",
    "!python3 vraag2.py -r hadoop hdfs:///user/bigdata/MapReduce/input.txt"
   ]
  },
  {
   "cell_type": "code",
   "execution_count": 16,
   "metadata": {},
   "outputs": [
    {
     "name": "stdout",
     "output_type": "stream",
     "text": [
      "Writing vraag3.py\n"
     ]
    }
   ],
   "source": [
    "%%file vraag3.py\n",
    "# vraag 3: * Het aantal woorden dat begint met elke letter\n",
    "\n",
    "from mrjob.job import MRJob\n",
    "\n",
    "class Vraag3(MRJob):\n",
    "    def mapper(self, _, line):\n",
    "        for word in line.split():\n",
    "            if len(word) > 0 and word[0].isalpha():\n",
    "                yield (word[0].lower(), 1)\n",
    "\n",
    "    def reducer(self, word, counts):\n",
    "        yield (word, sum(counts))\n",
    "\n",
    "if __name__ == '__main__':\n",
    "    Vraag3.run()"
   ]
  },
  {
   "cell_type": "code",
   "execution_count": 17,
   "metadata": {},
   "outputs": [
    {
     "name": "stdout",
     "output_type": "stream",
     "text": [
      "No configs found; falling back on auto-configuration\n",
      "No configs specified for hadoop runner\n",
      "Looking for hadoop binary in /opt/hadoop-3.3.6/bin...\n",
      "Found hadoop binary: /opt/hadoop-3.3.6/bin/hadoop\n",
      "Using Hadoop version 3.3.6\n",
      "Looking for Hadoop streaming jar in /opt/hadoop-3.3.6...\n",
      "Found Hadoop streaming jar: /opt/hadoop-3.3.6/share/hadoop/tools/lib/hadoop-streaming-3.3.6.jar\n",
      "Creating temp directory /tmp/vraag3.root.20240305.090201.251870\n",
      "uploading working dir files to hdfs:///user/root/tmp/mrjob/vraag3.root.20240305.090201.251870/files/wd...\n",
      "Copying other local files to hdfs:///user/root/tmp/mrjob/vraag3.root.20240305.090201.251870/files/\n",
      "Running step 1 of 1...\n",
      "  packageJobJar: [/tmp/hadoop-unjar162690889028183778/] [] /tmp/streamjob5655895214953926387.jar tmpDir=null\n",
      "  Connecting to ResourceManager at resourcemanager/172.20.0.9:8032\n",
      "  Connecting to Application History server at historyserver/172.20.0.3:10200\n",
      "  Connecting to ResourceManager at resourcemanager/172.20.0.9:8032\n",
      "  Connecting to Application History server at historyserver/172.20.0.3:10200\n",
      "  Disabling Erasure Coding for path: /tmp/hadoop-yarn/staging/root/.staging/job_1709623304250_0006\n",
      "  Total input files to process : 1\n",
      "  number of splits:2\n",
      "  Submitting tokens for job: job_1709623304250_0006\n",
      "  Executing with tokens: []\n",
      "  resource-types.xml not found\n",
      "  Unable to find 'resource-types.xml'.\n",
      "  Submitted application application_1709623304250_0006\n",
      "  The url to track the job: http://resourcemanager:8088/proxy/application_1709623304250_0006/\n",
      "  Running job: job_1709623304250_0006\n",
      "  Job job_1709623304250_0006 running in uber mode : false\n",
      "   map 0% reduce 0%\n",
      "   map 50% reduce 0%\n",
      "   map 100% reduce 0%\n",
      "   map 100% reduce 100%\n",
      "  Job job_1709623304250_0006 completed successfully\n",
      "  Output directory: hdfs:///user/root/tmp/mrjob/vraag3.root.20240305.090201.251870/output\n",
      "Counters: 54\n",
      "\tFile Input Format Counters \n",
      "\t\tBytes Read=167\n",
      "\tFile Output Format Counters \n",
      "\t\tBytes Written=66\n",
      "\tFile System Counters\n",
      "\t\tFILE: Number of bytes read=60\n",
      "\t\tFILE: Number of bytes written=851750\n",
      "\t\tFILE: Number of large read operations=0\n",
      "\t\tFILE: Number of read operations=0\n",
      "\t\tFILE: Number of write operations=0\n",
      "\t\tHDFS: Number of bytes read=377\n",
      "\t\tHDFS: Number of bytes read erasure-coded=0\n",
      "\t\tHDFS: Number of bytes written=66\n",
      "\t\tHDFS: Number of large read operations=0\n",
      "\t\tHDFS: Number of read operations=11\n",
      "\t\tHDFS: Number of write operations=2\n",
      "\tJob Counters \n",
      "\t\tLaunched map tasks=2\n",
      "\t\tLaunched reduce tasks=1\n",
      "\t\tRack-local map tasks=2\n",
      "\t\tTotal megabyte-milliseconds taken by all map tasks=15917056\n",
      "\t\tTotal megabyte-milliseconds taken by all reduce tasks=13819904\n",
      "\t\tTotal time spent by all map tasks (ms)=3886\n",
      "\t\tTotal time spent by all maps in occupied slots (ms)=15544\n",
      "\t\tTotal time spent by all reduce tasks (ms)=1687\n",
      "\t\tTotal time spent by all reduces in occupied slots (ms)=13496\n",
      "\t\tTotal vcore-milliseconds taken by all map tasks=3886\n",
      "\t\tTotal vcore-milliseconds taken by all reduce tasks=1687\n",
      "\tMap-Reduce Framework\n",
      "\t\tCPU time spent (ms)=1280\n",
      "\t\tCombine input records=0\n",
      "\t\tCombine output records=0\n",
      "\t\tFailed Shuffles=0\n",
      "\t\tGC time elapsed (ms)=140\n",
      "\t\tInput split bytes=210\n",
      "\t\tMap input records=5\n",
      "\t\tMap output bytes=102\n",
      "\t\tMap output materialized bytes=66\n",
      "\t\tMap output records=17\n",
      "\t\tMerged Map outputs=2\n",
      "\t\tPeak Map Physical memory (bytes)=318525440\n",
      "\t\tPeak Map Virtual memory (bytes)=5044404224\n",
      "\t\tPeak Reduce Physical memory (bytes)=265359360\n",
      "\t\tPeak Reduce Virtual memory (bytes)=8385396736\n",
      "\t\tPhysical memory (bytes) snapshot=848625664\n",
      "\t\tReduce input groups=11\n",
      "\t\tReduce input records=17\n",
      "\t\tReduce output records=11\n",
      "\t\tReduce shuffle bytes=66\n",
      "\t\tShuffled Maps =2\n",
      "\t\tSpilled Records=34\n",
      "\t\tTotal committed heap usage (bytes)=645398528\n",
      "\t\tVirtual memory (bytes) snapshot=18470572032\n",
      "\tShuffle Errors\n",
      "\t\tBAD_ID=0\n",
      "\t\tCONNECTION=0\n",
      "\t\tIO_ERROR=0\n",
      "\t\tWRONG_LENGTH=0\n",
      "\t\tWRONG_MAP=0\n",
      "\t\tWRONG_REDUCE=0\n",
      "job output is in hdfs:///user/root/tmp/mrjob/vraag3.root.20240305.090201.251870/output\n",
      "Streaming final output from hdfs:///user/root/tmp/mrjob/vraag3.root.20240305.090201.251870/output...\n",
      "\"D\"\t1\n",
      "\"H\"\t1\n",
      "\"W\"\t2\n",
      "\"e\"\t1\n",
      "\"f\"\t1\n",
      "\"h\"\t3\n",
      "\"i\"\t1\n",
      "\"o\"\t1\n",
      "\"t\"\t2\n",
      "\"v\"\t2\n",
      "\"w\"\t2\n",
      "Removing HDFS temp directory hdfs:///user/root/tmp/mrjob/vraag3.root.20240305.090201.251870...\n",
      "Removing temp directory /tmp/vraag3.root.20240305.090201.251870...\n"
     ]
    }
   ],
   "source": [
    "# test vraag 3\n",
    "!python3 vraag3.py -r hadoop hdfs:///user/bigdata/MapReduce/input.txt"
   ]
  },
  {
   "cell_type": "code",
   "execution_count": 18,
   "metadata": {},
   "outputs": [
    {
     "name": "stdout",
     "output_type": "stream",
     "text": [
      "Writing vraag4.py\n"
     ]
    }
   ],
   "source": [
    "%%file vraag4.py\n",
    "# vraag 4: Het aantal woorden in de tekst\n",
    "\n",
    "from mrjob.job import MRJob\n",
    "\n",
    "class Vraag4(MRJob):\n",
    "    def mapper(self, _, line):\n",
    "        for word in line.split():\n",
    "            yield (\"aantal woorden\", 1)\n",
    "\n",
    "    def reducer(self, word, counts):\n",
    "        yield (word, sum(counts))\n",
    "\n",
    "if __name__ == '__main__':\n",
    "    Vraag4.run()"
   ]
  },
  {
   "cell_type": "code",
   "execution_count": 19,
   "metadata": {},
   "outputs": [
    {
     "name": "stdout",
     "output_type": "stream",
     "text": [
      "No configs found; falling back on auto-configuration\n",
      "No configs specified for hadoop runner\n",
      "Looking for hadoop binary in /opt/hadoop-3.3.6/bin...\n",
      "Found hadoop binary: /opt/hadoop-3.3.6/bin/hadoop\n",
      "Using Hadoop version 3.3.6\n",
      "Looking for Hadoop streaming jar in /opt/hadoop-3.3.6...\n",
      "Found Hadoop streaming jar: /opt/hadoop-3.3.6/share/hadoop/tools/lib/hadoop-streaming-3.3.6.jar\n",
      "Creating temp directory /tmp/vraag4.root.20240305.090308.833739\n",
      "uploading working dir files to hdfs:///user/root/tmp/mrjob/vraag4.root.20240305.090308.833739/files/wd...\n",
      "Copying other local files to hdfs:///user/root/tmp/mrjob/vraag4.root.20240305.090308.833739/files/\n",
      "Running step 1 of 1...\n",
      "  packageJobJar: [/tmp/hadoop-unjar8694725971371442727/] [] /tmp/streamjob4036326450548955324.jar tmpDir=null\n",
      "  Connecting to ResourceManager at resourcemanager/172.20.0.9:8032\n",
      "  Connecting to Application History server at historyserver/172.20.0.3:10200\n",
      "  Connecting to ResourceManager at resourcemanager/172.20.0.9:8032\n",
      "  Connecting to Application History server at historyserver/172.20.0.3:10200\n",
      "  Disabling Erasure Coding for path: /tmp/hadoop-yarn/staging/root/.staging/job_1709623304250_0007\n",
      "  Total input files to process : 1\n",
      "  number of splits:2\n",
      "  Submitting tokens for job: job_1709623304250_0007\n",
      "  Executing with tokens: []\n",
      "  resource-types.xml not found\n",
      "  Unable to find 'resource-types.xml'.\n",
      "  Submitted application application_1709623304250_0007\n",
      "  The url to track the job: http://resourcemanager:8088/proxy/application_1709623304250_0007/\n",
      "  Running job: job_1709623304250_0007\n",
      "  Job job_1709623304250_0007 running in uber mode : false\n",
      "   map 0% reduce 0%\n",
      "   map 50% reduce 0%\n",
      "   map 100% reduce 0%\n",
      "   map 100% reduce 100%\n",
      "  Job job_1709623304250_0007 completed successfully\n",
      "  Output directory: hdfs:///user/root/tmp/mrjob/vraag4.root.20240305.090308.833739/output\n",
      "Counters: 54\n",
      "\tFile Input Format Counters \n",
      "\t\tBytes Read=167\n",
      "\tFile Output Format Counters \n",
      "\t\tBytes Written=20\n",
      "\tFile System Counters\n",
      "\t\tFILE: Number of bytes read=48\n",
      "\t\tFILE: Number of bytes written=851726\n",
      "\t\tFILE: Number of large read operations=0\n",
      "\t\tFILE: Number of read operations=0\n",
      "\t\tFILE: Number of write operations=0\n",
      "\t\tHDFS: Number of bytes read=377\n",
      "\t\tHDFS: Number of bytes read erasure-coded=0\n",
      "\t\tHDFS: Number of bytes written=20\n",
      "\t\tHDFS: Number of large read operations=0\n",
      "\t\tHDFS: Number of read operations=11\n",
      "\t\tHDFS: Number of write operations=2\n",
      "\tJob Counters \n",
      "\t\tLaunched map tasks=2\n",
      "\t\tLaunched reduce tasks=1\n",
      "\t\tRack-local map tasks=2\n",
      "\t\tTotal megabyte-milliseconds taken by all map tasks=15982592\n",
      "\t\tTotal megabyte-milliseconds taken by all reduce tasks=14458880\n",
      "\t\tTotal time spent by all map tasks (ms)=3902\n",
      "\t\tTotal time spent by all maps in occupied slots (ms)=15608\n",
      "\t\tTotal time spent by all reduce tasks (ms)=1765\n",
      "\t\tTotal time spent by all reduces in occupied slots (ms)=14120\n",
      "\t\tTotal vcore-milliseconds taken by all map tasks=3902\n",
      "\t\tTotal vcore-milliseconds taken by all reduce tasks=1765\n",
      "\tMap-Reduce Framework\n",
      "\t\tCPU time spent (ms)=1490\n",
      "\t\tCombine input records=0\n",
      "\t\tCombine output records=0\n",
      "\t\tFailed Shuffles=0\n",
      "\t\tGC time elapsed (ms)=156\n",
      "\t\tInput split bytes=210\n",
      "\t\tMap input records=5\n",
      "\t\tMap output bytes=342\n",
      "\t\tMap output materialized bytes=54\n",
      "\t\tMap output records=18\n",
      "\t\tMerged Map outputs=2\n",
      "\t\tPeak Map Physical memory (bytes)=262377472\n",
      "\t\tPeak Map Virtual memory (bytes)=5042585600\n",
      "\t\tPeak Reduce Physical memory (bytes)=269881344\n",
      "\t\tPeak Reduce Virtual memory (bytes)=8385052672\n",
      "\t\tPhysical memory (bytes) snapshot=792145920\n",
      "\t\tReduce input groups=1\n",
      "\t\tReduce input records=18\n",
      "\t\tReduce output records=1\n",
      "\t\tReduce shuffle bytes=54\n",
      "\t\tShuffled Maps =2\n",
      "\t\tSpilled Records=36\n",
      "\t\tTotal committed heap usage (bytes)=559415296\n",
      "\t\tVirtual memory (bytes) snapshot=18468593664\n",
      "\tShuffle Errors\n",
      "\t\tBAD_ID=0\n",
      "\t\tCONNECTION=0\n",
      "\t\tIO_ERROR=0\n",
      "\t\tWRONG_LENGTH=0\n",
      "\t\tWRONG_MAP=0\n",
      "\t\tWRONG_REDUCE=0\n",
      "job output is in hdfs:///user/root/tmp/mrjob/vraag4.root.20240305.090308.833739/output\n",
      "Streaming final output from hdfs:///user/root/tmp/mrjob/vraag4.root.20240305.090308.833739/output...\n",
      "\"aantal woorden\"\t18\n",
      "Removing HDFS temp directory hdfs:///user/root/tmp/mrjob/vraag4.root.20240305.090308.833739...\n",
      "Removing temp directory /tmp/vraag4.root.20240305.090308.833739...\n"
     ]
    }
   ],
   "source": [
    "# test vraag 4\n",
    "!python3 vraag4.py -r hadoop hdfs:///user/bigdata/MapReduce/input.txt"
   ]
  },
  {
   "cell_type": "markdown",
   "metadata": {},
   "source": [
    "## Werken met MapReduce voor gestructureerde data\n",
    "\n",
    "Mapreduce kan ook gebruikt worden om te werken met gestructureerde data (bijvoorbeeld een csv) waar elke rij 1 data-element voorsteld.\n",
    "Het is hier echter wel belangrijk dat alle data op 1 lijn gecombineerd wordt dus multiline csv's, jsons of xml bestanden kunnen niet verwerkt worden.\n",
    "\n",
    "Onderstaande code is een voorbeeld voor hoe je een csv kan uitlezen en een aantal statistieken kan berekenen. Hierin leer je vooral:\n",
    "* Hoe de csv lijn per lijn te verwerken en kolommen te detecteren\n",
    "* Hoe de header rij eruit filteren\n",
    "* Hoe meerdere berekeningen op een iterator te doen\n",
    "\n",
    "We gebruiken hiervoor de titanic.csv file. Let op dat die naam van de passagier hierbij komma's kan bevatten dus dit vereist wat extra aandacht.\n",
    "Daarnaast gebruiken we de lokale versie van het bestand en niet de geuploadde versie.\n",
    "\n",
    "We willen de volgende zaken berekenen door middel van 1 map-reduce applicatie:\n",
    "* Gemiddelde leeftijd\n",
    "* Percentage overleeft\n",
    "* Percentage mannelijke passagiers\n",
    "* Percentage vrouwelijke passagiers die het overleefd hebben: 30% betekend dat 30% van de vrouwelijke passagiers het overleefd hebben"
   ]
  },
  {
   "cell_type": "code",
   "execution_count": 29,
   "metadata": {},
   "outputs": [
    {
     "name": "stdout",
     "output_type": "stream",
     "text": [
      "Overwriting structured.py\n"
     ]
    }
   ],
   "source": [
    "%%file structured.py\n",
    "from mrjob.job import MRJob\n",
    "import csv\n",
    "from io import StringIO\n",
    "\n",
    "col_survived = 1\n",
    "col_gender = 4\n",
    "col_age = 5\n",
    "\n",
    "class Structured(MRJob):\n",
    "    def mapper(self, _, line):\n",
    "\n",
    "        # skip de header rij\n",
    "        if line == \"PassengerId,Survived,Pclass,Name,Sex,Age,SibSp,Parch,Ticket,Fare,Cabin,Embarked\":\n",
    "            return\n",
    "\n",
    "        # converteer lijn naar rij van column values\n",
    "        csv_file = StringIO(line)\n",
    "        cols = next(csv.reader(csv_file))  # csv.reader returned een generator die over de lijnen itereert\n",
    "\n",
    "        if cols[col_age] != '':\n",
    "            yield (\"leeftijd\", float(cols[col_age]))\n",
    "\n",
    "        if cols[col_survived] != '':\n",
    "            yield('overleefd', float(cols[col_survived]))\n",
    "\n",
    "        if cols[col_gender] != '':\n",
    "            yield('perc_man', int(cols[col_gender] == 'male'))\n",
    "\n",
    "        if cols[col_gender] != '' and cols[col_survived] != '':\n",
    "            if cols[col_gender] == 'female':\n",
    "                yield('vrouw_overleefd', float(cols[col_survived]))\n",
    "\n",
    "    def reducer(self, word, counts):\n",
    "\n",
    "        if word == 'leeftijd':\n",
    "            counts = list(counts)\n",
    "            yield(word, sum(counts)/len(counts))\n",
    "        elif word == 'overleefd' or word =='perc_man' or word == 'vrouw_overleefd':\n",
    "            counts = list(counts)\n",
    "            yield(word, sum(counts)/len(counts) * 100)         \n",
    "\n",
    "if __name__ == '__main__':\n",
    "    Structured.run()"
   ]
  },
  {
   "cell_type": "code",
   "execution_count": 30,
   "metadata": {},
   "outputs": [
    {
     "name": "stdout",
     "output_type": "stream",
     "text": [
      "No configs found; falling back on auto-configuration\n",
      "No configs specified for inline runner\n",
      "Creating temp directory /tmp/structured.root.20240305.095045.612705\n",
      "Running step 1 of 1...\n",
      "job output is in /tmp/structured.root.20240305.095045.612705/output\n",
      "Streaming final output from /tmp/structured.root.20240305.095045.612705/output...\n",
      "\"leeftijd\"\t29.69911764705882\n",
      "\"perc_man\"\t64.75869809203144\n",
      "\"vrouw_overleefd\"\t74.20382165605095\n",
      "\"overleefd\"\t38.38383838383838\n",
      "Removing temp directory /tmp/structured.root.20240305.095045.612705...\n"
     ]
    }
   ],
   "source": [
    "# test structured\n",
    "!python3 structured.py titanic.csv"
   ]
  },
  {
   "cell_type": "markdown",
   "metadata": {},
   "source": [
    "## Afsluitende opmerkingen\n",
    "\n",
    "Het is belangrijk om te beseffen dat deze applicatie op meerdere nodes kan tegelijkertijd uitgevoerd worden. \n",
    "Dit heeft als gevolg dat je geen persistente counters kan toevoegen in de reducer om gemiddelden en dergelijke te berekenen.\n",
    "Een globaal overzicht van het dataframe kan maar **in de mapper** behaald worden.\n",
    "\n",
    "Daarnaast is er nog een andere stap mogelijk dan mapper of reducer. Dat is **de combiner** stap. Dit is een stap die runt per node en gebruikt kan worden om al wat combinaties te doen zodat er minder data tussen nodes moet verstuurd worden. In grote applicaties/datasets kan dit heel wat internettrafiek besparen wat de werking van de cluster ten goede komt.\n",
    "\n",
    "Ten derde is het ook mogelijk om meerdere stappen te definieren in de mrjob applicatie. Dit kan door de steps functie te implementeren en daar elke stap in te definieren. Elke stap hierin kan beschikken over een eigen mapper/reducer en combiner functie. Meer informatie vind je [in de documentatie](https://mrjob.readthedocs.io/en/latest/guides/quickstart.html#writing-your-second-job)\n",
    "\n",
    "## Verdere oefeningen\n",
    "\n",
    "Gebruik nu de titanic csv om de volgende zaken te berekenen:\n",
    "* Het aantal unieke plaatsen waar personen aan boord zijn gekomen (embarked kolom)\n",
    "* Het aantal ontbrekende waarden in de Cabin kolom\n",
    "* De volgende statistische waarden voor de ticketprijs (Fare) kolom: min, max, mean, std\n",
    "* De langste naam van een passagier\n",
    "* Het aantal passagiers per klasse\n",
    "* Het totaal aantal passagiers op de titanic"
   ]
  },
  {
   "cell_type": "code",
   "execution_count": null,
   "metadata": {},
   "outputs": [],
   "source": []
  }
 ],
 "metadata": {
  "kernelspec": {
   "display_name": "Python 3 (ipykernel)",
   "language": "python",
   "name": "python3"
  },
  "language_info": {
   "codemirror_mode": {
    "name": "ipython",
    "version": 3
   },
   "file_extension": ".py",
   "mimetype": "text/x-python",
   "name": "python",
   "nbconvert_exporter": "python",
   "pygments_lexer": "ipython3",
   "version": "3.10.12"
  }
 },
 "nbformat": 4,
 "nbformat_minor": 4
}
